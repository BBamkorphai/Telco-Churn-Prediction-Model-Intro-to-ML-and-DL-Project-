{
 "cells": [
  {
   "cell_type": "markdown",
   "id": "48d4ef9b",
   "metadata": {},
   "source": [
    "# import lib and function"
   ]
  },
  {
   "cell_type": "code",
   "execution_count": null,
   "id": "d2c39010",
   "metadata": {},
   "outputs": [
    {
     "name": "stdout",
     "output_type": "stream",
     "text": [
      "['Path', '__builtins__', '__cached__', '__doc__', '__file__', '__loader__', '__name__', '__package__', '__spec__', 'os', 'target_path', 'test_reload']\n"
     ]
    },
    {
     "data": {
      "text/plain": [
       "<module 'Utils.path_file_loader' from 'd:\\\\KMITL\\\\year_4\\\\Intro_to_DL_and_ML\\\\Project\\\\Telco-Churn-Prediction-Model-Intro-to-ML-and-DL-Project-\\\\Utils\\\\path_file_loader.py'>"
      ]
     },
     "execution_count": 7,
     "metadata": {},
     "output_type": "execute_result"
    }
   ],
   "source": [
    "import importlib\n",
    "import Utils.path_file_loader as pfl\n",
    "importlib.reload(pfl)\n",
    "print(dir(pfl))\n"
   ]
  },
  {
   "cell_type": "code",
   "execution_count": 2,
   "id": "30d5be8b",
   "metadata": {},
   "outputs": [
    {
     "name": "stderr",
     "output_type": "stream",
     "text": [
      "c:\\Users\\korph\\anaconda3\\Lib\\site-packages\\tqdm\\auto.py:21: TqdmWarning: IProgress not found. Please update jupyter and ipywidgets. See https://ipywidgets.readthedocs.io/en/stable/user_install.html\n",
      "  from .autonotebook import tqdm as notebook_tqdm\n"
     ]
    }
   ],
   "source": [
    "import kagglehub\n",
    "import pandas as pd\n",
    "import os\n",
    "import numpy as np\n",
    "from Utils.path_file_loader import target_path\n",
    "from pathlib import Path\n",
    "from pyspark.sql import DataFrame"
   ]
  },
  {
   "cell_type": "markdown",
   "id": "7201df9b",
   "metadata": {},
   "source": [
    "# get dataframe"
   ]
  },
  {
   "cell_type": "code",
   "execution_count": 3,
   "id": "3606f03c",
   "metadata": {},
   "outputs": [
    {
     "data": {
      "text/html": [
       "<div>\n",
       "<style scoped>\n",
       "    .dataframe tbody tr th:only-of-type {\n",
       "        vertical-align: middle;\n",
       "    }\n",
       "\n",
       "    .dataframe tbody tr th {\n",
       "        vertical-align: top;\n",
       "    }\n",
       "\n",
       "    .dataframe thead th {\n",
       "        text-align: right;\n",
       "    }\n",
       "</style>\n",
       "<table border=\"1\" class=\"dataframe\">\n",
       "  <thead>\n",
       "    <tr style=\"text-align: right;\">\n",
       "      <th></th>\n",
       "      <th>customerID</th>\n",
       "      <th>gender</th>\n",
       "      <th>SeniorCitizen</th>\n",
       "      <th>Partner</th>\n",
       "      <th>Dependents</th>\n",
       "      <th>tenure</th>\n",
       "      <th>PhoneService</th>\n",
       "      <th>MultipleLines</th>\n",
       "      <th>InternetService</th>\n",
       "      <th>OnlineSecurity</th>\n",
       "      <th>...</th>\n",
       "      <th>DeviceProtection</th>\n",
       "      <th>TechSupport</th>\n",
       "      <th>StreamingTV</th>\n",
       "      <th>StreamingMovies</th>\n",
       "      <th>Contract</th>\n",
       "      <th>PaperlessBilling</th>\n",
       "      <th>PaymentMethod</th>\n",
       "      <th>MonthlyCharges</th>\n",
       "      <th>TotalCharges</th>\n",
       "      <th>Churn</th>\n",
       "    </tr>\n",
       "  </thead>\n",
       "  <tbody>\n",
       "    <tr>\n",
       "      <th>0</th>\n",
       "      <td>7590-VHVEG</td>\n",
       "      <td>Female</td>\n",
       "      <td>0</td>\n",
       "      <td>Yes</td>\n",
       "      <td>No</td>\n",
       "      <td>1</td>\n",
       "      <td>No</td>\n",
       "      <td>No phone service</td>\n",
       "      <td>DSL</td>\n",
       "      <td>No</td>\n",
       "      <td>...</td>\n",
       "      <td>No</td>\n",
       "      <td>No</td>\n",
       "      <td>No</td>\n",
       "      <td>No</td>\n",
       "      <td>Month-to-month</td>\n",
       "      <td>Yes</td>\n",
       "      <td>Electronic check</td>\n",
       "      <td>29.85</td>\n",
       "      <td>29.85</td>\n",
       "      <td>No</td>\n",
       "    </tr>\n",
       "    <tr>\n",
       "      <th>1</th>\n",
       "      <td>5575-GNVDE</td>\n",
       "      <td>Male</td>\n",
       "      <td>0</td>\n",
       "      <td>No</td>\n",
       "      <td>No</td>\n",
       "      <td>34</td>\n",
       "      <td>Yes</td>\n",
       "      <td>No</td>\n",
       "      <td>DSL</td>\n",
       "      <td>Yes</td>\n",
       "      <td>...</td>\n",
       "      <td>Yes</td>\n",
       "      <td>No</td>\n",
       "      <td>No</td>\n",
       "      <td>No</td>\n",
       "      <td>One year</td>\n",
       "      <td>No</td>\n",
       "      <td>Mailed check</td>\n",
       "      <td>56.95</td>\n",
       "      <td>1889.50</td>\n",
       "      <td>No</td>\n",
       "    </tr>\n",
       "    <tr>\n",
       "      <th>2</th>\n",
       "      <td>3668-QPYBK</td>\n",
       "      <td>Male</td>\n",
       "      <td>0</td>\n",
       "      <td>No</td>\n",
       "      <td>No</td>\n",
       "      <td>2</td>\n",
       "      <td>Yes</td>\n",
       "      <td>No</td>\n",
       "      <td>DSL</td>\n",
       "      <td>Yes</td>\n",
       "      <td>...</td>\n",
       "      <td>No</td>\n",
       "      <td>No</td>\n",
       "      <td>No</td>\n",
       "      <td>No</td>\n",
       "      <td>Month-to-month</td>\n",
       "      <td>Yes</td>\n",
       "      <td>Mailed check</td>\n",
       "      <td>53.85</td>\n",
       "      <td>108.15</td>\n",
       "      <td>Yes</td>\n",
       "    </tr>\n",
       "    <tr>\n",
       "      <th>3</th>\n",
       "      <td>7795-CFOCW</td>\n",
       "      <td>Male</td>\n",
       "      <td>0</td>\n",
       "      <td>No</td>\n",
       "      <td>No</td>\n",
       "      <td>45</td>\n",
       "      <td>No</td>\n",
       "      <td>No phone service</td>\n",
       "      <td>DSL</td>\n",
       "      <td>Yes</td>\n",
       "      <td>...</td>\n",
       "      <td>Yes</td>\n",
       "      <td>Yes</td>\n",
       "      <td>No</td>\n",
       "      <td>No</td>\n",
       "      <td>One year</td>\n",
       "      <td>No</td>\n",
       "      <td>Bank transfer (automatic)</td>\n",
       "      <td>42.30</td>\n",
       "      <td>1840.75</td>\n",
       "      <td>No</td>\n",
       "    </tr>\n",
       "    <tr>\n",
       "      <th>4</th>\n",
       "      <td>9237-HQITU</td>\n",
       "      <td>Female</td>\n",
       "      <td>0</td>\n",
       "      <td>No</td>\n",
       "      <td>No</td>\n",
       "      <td>2</td>\n",
       "      <td>Yes</td>\n",
       "      <td>No</td>\n",
       "      <td>Fiber optic</td>\n",
       "      <td>No</td>\n",
       "      <td>...</td>\n",
       "      <td>No</td>\n",
       "      <td>No</td>\n",
       "      <td>No</td>\n",
       "      <td>No</td>\n",
       "      <td>Month-to-month</td>\n",
       "      <td>Yes</td>\n",
       "      <td>Electronic check</td>\n",
       "      <td>70.70</td>\n",
       "      <td>151.65</td>\n",
       "      <td>Yes</td>\n",
       "    </tr>\n",
       "  </tbody>\n",
       "</table>\n",
       "<p>5 rows × 21 columns</p>\n",
       "</div>"
      ],
      "text/plain": [
       "   customerID  gender  SeniorCitizen Partner Dependents  tenure PhoneService  \\\n",
       "0  7590-VHVEG  Female              0     Yes         No       1           No   \n",
       "1  5575-GNVDE    Male              0      No         No      34          Yes   \n",
       "2  3668-QPYBK    Male              0      No         No       2          Yes   \n",
       "3  7795-CFOCW    Male              0      No         No      45           No   \n",
       "4  9237-HQITU  Female              0      No         No       2          Yes   \n",
       "\n",
       "      MultipleLines InternetService OnlineSecurity  ... DeviceProtection  \\\n",
       "0  No phone service             DSL             No  ...               No   \n",
       "1                No             DSL            Yes  ...              Yes   \n",
       "2                No             DSL            Yes  ...               No   \n",
       "3  No phone service             DSL            Yes  ...              Yes   \n",
       "4                No     Fiber optic             No  ...               No   \n",
       "\n",
       "  TechSupport StreamingTV StreamingMovies        Contract PaperlessBilling  \\\n",
       "0          No          No              No  Month-to-month              Yes   \n",
       "1          No          No              No        One year               No   \n",
       "2          No          No              No  Month-to-month              Yes   \n",
       "3         Yes          No              No        One year               No   \n",
       "4          No          No              No  Month-to-month              Yes   \n",
       "\n",
       "               PaymentMethod MonthlyCharges  TotalCharges  Churn  \n",
       "0           Electronic check          29.85         29.85     No  \n",
       "1               Mailed check          56.95       1889.50     No  \n",
       "2               Mailed check          53.85        108.15    Yes  \n",
       "3  Bank transfer (automatic)          42.30       1840.75     No  \n",
       "4           Electronic check          70.70        151.65    Yes  \n",
       "\n",
       "[5 rows x 21 columns]"
      ]
     },
     "execution_count": 3,
     "metadata": {},
     "output_type": "execute_result"
    }
   ],
   "source": [
    "df = pd.read_csv(target_path(\"DataBase\\Cleaned_data.csv\"))\n",
    "df.head()"
   ]
  },
  {
   "cell_type": "markdown",
   "id": "3a6c1168",
   "metadata": {},
   "source": [
    "# inspect information"
   ]
  },
  {
   "cell_type": "code",
   "execution_count": 61,
   "id": "dd81efcc",
   "metadata": {},
   "outputs": [
    {
     "data": {
      "text/plain": [
       "Index(['customerID', 'gender', 'SeniorCitizen', 'Partner', 'Dependents',\n",
       "       'tenure', 'PhoneService', 'MultipleLines', 'InternetService',\n",
       "       'OnlineSecurity', 'OnlineBackup', 'DeviceProtection', 'TechSupport',\n",
       "       'StreamingTV', 'StreamingMovies', 'Contract', 'PaperlessBilling',\n",
       "       'PaymentMethod', 'MonthlyCharges', 'TotalCharges', 'Churn'],\n",
       "      dtype='object')"
      ]
     },
     "execution_count": 61,
     "metadata": {},
     "output_type": "execute_result"
    }
   ],
   "source": [
    "df.columns"
   ]
  },
  {
   "cell_type": "code",
   "execution_count": 77,
   "id": "a965d165",
   "metadata": {},
   "outputs": [
    {
     "name": "stdout",
     "output_type": "stream",
     "text": [
      "Churn\n",
      "No     5174\n",
      "Yes    1869\n",
      "Name: count, dtype: int64\n"
     ]
    }
   ],
   "source": [
    "churn_percent = df[\"Churn\"].value_counts()\n",
    "print(churn_percent)"
   ]
  },
  {
   "cell_type": "code",
   "execution_count": 62,
   "id": "7c95bf5f",
   "metadata": {},
   "outputs": [
    {
     "name": "stdout",
     "output_type": "stream",
     "text": [
      "Churn\n",
      "No     73.463013\n",
      "Yes    26.536987\n",
      "Name: proportion, dtype: float64\n"
     ]
    }
   ],
   "source": [
    "churn_percent = df[\"Churn\"].value_counts(normalize=True) * 100\n",
    "print(churn_percent)"
   ]
  },
  {
   "cell_type": "code",
   "execution_count": 68,
   "id": "7abe1833",
   "metadata": {},
   "outputs": [
    {
     "data": {
      "text/html": [
       "<div>\n",
       "<style scoped>\n",
       "    .dataframe tbody tr th:only-of-type {\n",
       "        vertical-align: middle;\n",
       "    }\n",
       "\n",
       "    .dataframe tbody tr th {\n",
       "        vertical-align: top;\n",
       "    }\n",
       "\n",
       "    .dataframe thead th {\n",
       "        text-align: right;\n",
       "    }\n",
       "</style>\n",
       "<table border=\"1\" class=\"dataframe\">\n",
       "  <thead>\n",
       "    <tr style=\"text-align: right;\">\n",
       "      <th></th>\n",
       "      <th>tenure</th>\n",
       "      <th>PaymentMethod</th>\n",
       "      <th>MonthlyCharges</th>\n",
       "      <th>TotalCharges</th>\n",
       "      <th>Churn</th>\n",
       "      <th>tenure_x_MonthlyCharges</th>\n",
       "      <th>diff</th>\n",
       "    </tr>\n",
       "  </thead>\n",
       "  <tbody>\n",
       "    <tr>\n",
       "      <th>4610</th>\n",
       "      <td>72</td>\n",
       "      <td>Bank transfer (automatic)</td>\n",
       "      <td>117.80</td>\n",
       "      <td>8684.80</td>\n",
       "      <td>Yes</td>\n",
       "      <td>8481</td>\n",
       "      <td>-2.830556</td>\n",
       "    </tr>\n",
       "    <tr>\n",
       "      <th>4586</th>\n",
       "      <td>72</td>\n",
       "      <td>Bank transfer (automatic)</td>\n",
       "      <td>118.75</td>\n",
       "      <td>8672.45</td>\n",
       "      <td>No</td>\n",
       "      <td>8550</td>\n",
       "      <td>-1.700694</td>\n",
       "    </tr>\n",
       "    <tr>\n",
       "      <th>6768</th>\n",
       "      <td>72</td>\n",
       "      <td>Credit card (automatic)</td>\n",
       "      <td>117.50</td>\n",
       "      <td>8670.10</td>\n",
       "      <td>No</td>\n",
       "      <td>8460</td>\n",
       "      <td>-2.918056</td>\n",
       "    </tr>\n",
       "    <tr>\n",
       "      <th>5347</th>\n",
       "      <td>72</td>\n",
       "      <td>Credit card (automatic)</td>\n",
       "      <td>116.95</td>\n",
       "      <td>8594.40</td>\n",
       "      <td>No</td>\n",
       "      <td>8420</td>\n",
       "      <td>-2.422222</td>\n",
       "    </tr>\n",
       "    <tr>\n",
       "      <th>2187</th>\n",
       "      <td>71</td>\n",
       "      <td>Electronic check</td>\n",
       "      <td>116.25</td>\n",
       "      <td>8564.75</td>\n",
       "      <td>No</td>\n",
       "      <td>8253</td>\n",
       "      <td>-4.390845</td>\n",
       "    </tr>\n",
       "  </tbody>\n",
       "</table>\n",
       "</div>"
      ],
      "text/plain": [
       "      tenure              PaymentMethod  MonthlyCharges  TotalCharges Churn  \\\n",
       "4610      72  Bank transfer (automatic)          117.80       8684.80   Yes   \n",
       "4586      72  Bank transfer (automatic)          118.75       8672.45    No   \n",
       "6768      72    Credit card (automatic)          117.50       8670.10    No   \n",
       "5347      72    Credit card (automatic)          116.95       8594.40    No   \n",
       "2187      71           Electronic check          116.25       8564.75    No   \n",
       "\n",
       "      tenure_x_MonthlyCharges      diff  \n",
       "4610                     8481 -2.830556  \n",
       "4586                     8550 -1.700694  \n",
       "6768                     8460 -2.918056  \n",
       "5347                     8420 -2.422222  \n",
       "2187                     8253 -4.390845  "
      ]
     },
     "execution_count": 68,
     "metadata": {},
     "output_type": "execute_result"
    }
   ],
   "source": [
    "inspect = df.sort_values(by=\"TotalCharges\", ascending=False)\n",
    "inspect = inspect[['tenure','PaymentMethod', 'MonthlyCharges', 'TotalCharges', 'Churn']]\n",
    "\n",
    "inspect[\"tenure_x_MonthlyCharges\"] = (inspect[\"tenure\"] * inspect[\"MonthlyCharges\"]).astype(int)\n",
    "inspect['TotalCharges'] = (inspect['TotalCharges']).astype(float)\n",
    "inspect['diff'] = (inspect['tenure_x_MonthlyCharges'] - inspect['TotalCharges']) / inspect['tenure']\n",
    "inspect.head()\n"
   ]
  },
  {
   "cell_type": "code",
   "execution_count": null,
   "id": "18606d35",
   "metadata": {},
   "outputs": [
    {
     "name": "stderr",
     "output_type": "stream",
     "text": [
      "C:\\Users\\korph\\AppData\\Local\\Temp\\ipykernel_6412\\1707055771.py:1: UserWarning: Boolean Series key will be reindexed to match DataFrame index.\n",
      "  top_lost = inspect[df['Churn'] == 'Yes']\n"
     ]
    },
    {
     "data": {
      "text/html": [
       "<div>\n",
       "<style scoped>\n",
       "    .dataframe tbody tr th:only-of-type {\n",
       "        vertical-align: middle;\n",
       "    }\n",
       "\n",
       "    .dataframe tbody tr th {\n",
       "        vertical-align: top;\n",
       "    }\n",
       "\n",
       "    .dataframe thead th {\n",
       "        text-align: right;\n",
       "    }\n",
       "</style>\n",
       "<table border=\"1\" class=\"dataframe\">\n",
       "  <thead>\n",
       "    <tr style=\"text-align: right;\">\n",
       "      <th></th>\n",
       "      <th>tenure</th>\n",
       "      <th>PaymentMethod</th>\n",
       "      <th>MonthlyCharges</th>\n",
       "      <th>TotalCharges</th>\n",
       "      <th>Churn</th>\n",
       "      <th>tenure_x_MonthlyCharges</th>\n",
       "      <th>diff</th>\n",
       "    </tr>\n",
       "  </thead>\n",
       "  <tbody>\n",
       "    <tr>\n",
       "      <th>4610</th>\n",
       "      <td>72</td>\n",
       "      <td>Bank transfer (automatic)</td>\n",
       "      <td>117.80</td>\n",
       "      <td>8684.80</td>\n",
       "      <td>Yes</td>\n",
       "      <td>8481</td>\n",
       "      <td>-2.830556</td>\n",
       "    </tr>\n",
       "    <tr>\n",
       "      <th>1306</th>\n",
       "      <td>70</td>\n",
       "      <td>Credit card (automatic)</td>\n",
       "      <td>115.55</td>\n",
       "      <td>8127.60</td>\n",
       "      <td>Yes</td>\n",
       "      <td>8088</td>\n",
       "      <td>-0.565714</td>\n",
       "    </tr>\n",
       "    <tr>\n",
       "      <th>3890</th>\n",
       "      <td>72</td>\n",
       "      <td>Electronic check</td>\n",
       "      <td>109.25</td>\n",
       "      <td>8109.80</td>\n",
       "      <td>Yes</td>\n",
       "      <td>7866</td>\n",
       "      <td>-3.386111</td>\n",
       "    </tr>\n",
       "    <tr>\n",
       "      <th>6537</th>\n",
       "      <td>70</td>\n",
       "      <td>Credit card (automatic)</td>\n",
       "      <td>115.65</td>\n",
       "      <td>7968.85</td>\n",
       "      <td>Yes</td>\n",
       "      <td>8095</td>\n",
       "      <td>1.802143</td>\n",
       "    </tr>\n",
       "    <tr>\n",
       "      <th>5581</th>\n",
       "      <td>68</td>\n",
       "      <td>Electronic check</td>\n",
       "      <td>113.15</td>\n",
       "      <td>7856.00</td>\n",
       "      <td>Yes</td>\n",
       "      <td>7694</td>\n",
       "      <td>-2.382353</td>\n",
       "    </tr>\n",
       "  </tbody>\n",
       "</table>\n",
       "</div>"
      ],
      "text/plain": [
       "      tenure              PaymentMethod  MonthlyCharges  TotalCharges Churn  \\\n",
       "4610      72  Bank transfer (automatic)          117.80       8684.80   Yes   \n",
       "1306      70    Credit card (automatic)          115.55       8127.60   Yes   \n",
       "3890      72           Electronic check          109.25       8109.80   Yes   \n",
       "6537      70    Credit card (automatic)          115.65       7968.85   Yes   \n",
       "5581      68           Electronic check          113.15       7856.00   Yes   \n",
       "\n",
       "      tenure_x_MonthlyCharges      diff  \n",
       "4610                     8481 -2.830556  \n",
       "1306                     8088 -0.565714  \n",
       "3890                     7866 -3.386111  \n",
       "6537                     8095  1.802143  \n",
       "5581                     7694 -2.382353  "
      ]
     },
     "execution_count": 75,
     "metadata": {},
     "output_type": "execute_result"
    }
   ],
   "source": [
    "top_lost = inspect[df['Churn'] == 'Yes']\n",
    "\n",
    "\n",
    "\n",
    "top_lost.head()"
   ]
  },
  {
   "cell_type": "markdown",
   "id": "3250c22e",
   "metadata": {},
   "source": [
    "# analysis business impact"
   ]
  },
  {
   "cell_type": "code",
   "execution_count": 79,
   "id": "e35c0303",
   "metadata": {},
   "outputs": [
    {
     "name": "stdout",
     "output_type": "stream",
     "text": [
      "With 1869 churn user make lost per month : 139130.85 dollar, if can save at 30 percent , the value of model is 41739.255 dollar\n"
     ]
    }
   ],
   "source": [
    "churn_df = df[df['Churn'] == 'Yes']\n",
    "lost_per_month = churn_df['MonthlyCharges'].sum()\n",
    "print(f\"With {churn_percent['Yes']} churn user make lost per month : {lost_per_month} dollar, if can save at 30 percent , the value of model is {lost_per_month* 0.3} dollar\")"
   ]
  }
 ],
 "metadata": {
  "kernelspec": {
   "display_name": "base",
   "language": "python",
   "name": "python3"
  },
  "language_info": {
   "codemirror_mode": {
    "name": "ipython",
    "version": 3
   },
   "file_extension": ".py",
   "mimetype": "text/x-python",
   "name": "python",
   "nbconvert_exporter": "python",
   "pygments_lexer": "ipython3",
   "version": "3.11.11"
  }
 },
 "nbformat": 4,
 "nbformat_minor": 5
}
