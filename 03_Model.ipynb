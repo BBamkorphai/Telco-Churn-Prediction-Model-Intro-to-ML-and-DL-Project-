{
 "cells": [
  {
   "cell_type": "code",
   "execution_count": 2,
   "id": "118e66ea",
   "metadata": {},
   "outputs": [
    {
     "name": "stdout",
     "output_type": "stream",
     "text": [
      "['DataFrame', 'OneHotEncoder', 'SMOTE', 'StandardScaler', '__builtins__', '__cached__', '__doc__', '__file__', '__loader__', '__name__', '__package__', '__spec__', 'model_input_preparation', 'np', 'os', 'pd', 'train_test_split']\n"
     ]
    }
   ],
   "source": [
    "import importlib\n",
    "import Utils.dataset_preparation as pfl\n",
    "importlib.reload(pfl)\n",
    "print(dir(pfl))\n"
   ]
  },
  {
   "cell_type": "markdown",
   "id": "5fc6677a",
   "metadata": {},
   "source": [
    "# import lib and function"
   ]
  },
  {
   "cell_type": "code",
   "execution_count": 7,
   "id": "6f37bcaa",
   "metadata": {},
   "outputs": [],
   "source": [
    "import pandas as pd\n",
    "from catboost import CatBoostClassifier\n",
    "import seaborn as sns\n",
    "from sklearn.linear_model import LogisticRegression\n",
    "from Utils.path_file_loader import target_path\n",
    "from Utils.Evaluation_metrix import evaluate_sklearn_model\n",
    "from Utils.dataset_preparation import model_input_preparation\n",
    "from sklearn.metrics import classification_report\n",
    "import optuna\n",
    "from sklearn import tree\n",
    "from sklearn.ensemble import RandomForestClassifier\n",
    "from sklearn.naive_bayes import GaussianNB\n",
    "from sklearn import svm\n",
    "import torch\n",
    "from torch.utils.data import DataLoader, TensorDataset\n",
    "import torch.nn as nn \n",
    "import torch.optim as optim\n",
    "\n",
    "from sklearn.metrics import (\n",
    "    confusion_matrix, accuracy_score, precision_score, recall_score,\n",
    "    f1_score, roc_auc_score, roc_curve, r2_score\n",
    ")\n",
    "import matplotlib.pyplot as plt\n",
    "import seaborn as sns\n",
    "import numpy as np\n",
    "from math import sqrt, pi, exp\n",
    "from sklearn.model_selection import train_test_split\n",
    "\n",
    "\n",
    "sns.set(style=\"white\")\n"
   ]
  },
  {
   "cell_type": "markdown",
   "id": "82b240bf",
   "metadata": {},
   "source": [
    "# Data Preprocessing"
   ]
  },
  {
   "cell_type": "code",
   "execution_count": 4,
   "id": "49a0850b",
   "metadata": {},
   "outputs": [
    {
     "data": {
      "text/html": [
       "<div>\n",
       "<style scoped>\n",
       "    .dataframe tbody tr th:only-of-type {\n",
       "        vertical-align: middle;\n",
       "    }\n",
       "\n",
       "    .dataframe tbody tr th {\n",
       "        vertical-align: top;\n",
       "    }\n",
       "\n",
       "    .dataframe thead th {\n",
       "        text-align: right;\n",
       "    }\n",
       "</style>\n",
       "<table border=\"1\" class=\"dataframe\">\n",
       "  <thead>\n",
       "    <tr style=\"text-align: right;\">\n",
       "      <th></th>\n",
       "      <th>gender</th>\n",
       "      <th>SeniorCitizen</th>\n",
       "      <th>Partner</th>\n",
       "      <th>Dependents</th>\n",
       "      <th>tenure</th>\n",
       "      <th>PhoneService</th>\n",
       "      <th>MultipleLines</th>\n",
       "      <th>InternetService</th>\n",
       "      <th>OnlineSecurity</th>\n",
       "      <th>OnlineBackup</th>\n",
       "      <th>DeviceProtection</th>\n",
       "      <th>TechSupport</th>\n",
       "      <th>StreamingTV</th>\n",
       "      <th>StreamingMovies</th>\n",
       "      <th>Contract</th>\n",
       "      <th>PaperlessBilling</th>\n",
       "      <th>PaymentMethod</th>\n",
       "      <th>MonthlyCharges</th>\n",
       "      <th>TotalCharges</th>\n",
       "      <th>label</th>\n",
       "    </tr>\n",
       "  </thead>\n",
       "  <tbody>\n",
       "    <tr>\n",
       "      <th>0</th>\n",
       "      <td>Female</td>\n",
       "      <td>0</td>\n",
       "      <td>Yes</td>\n",
       "      <td>No</td>\n",
       "      <td>1</td>\n",
       "      <td>No</td>\n",
       "      <td>No phone service</td>\n",
       "      <td>DSL</td>\n",
       "      <td>No</td>\n",
       "      <td>Yes</td>\n",
       "      <td>No</td>\n",
       "      <td>No</td>\n",
       "      <td>No</td>\n",
       "      <td>No</td>\n",
       "      <td>Month-to-month</td>\n",
       "      <td>Yes</td>\n",
       "      <td>Electronic check</td>\n",
       "      <td>29.85</td>\n",
       "      <td>29.85</td>\n",
       "      <td>No</td>\n",
       "    </tr>\n",
       "    <tr>\n",
       "      <th>1</th>\n",
       "      <td>Male</td>\n",
       "      <td>0</td>\n",
       "      <td>No</td>\n",
       "      <td>No</td>\n",
       "      <td>34</td>\n",
       "      <td>Yes</td>\n",
       "      <td>No</td>\n",
       "      <td>DSL</td>\n",
       "      <td>Yes</td>\n",
       "      <td>No</td>\n",
       "      <td>Yes</td>\n",
       "      <td>No</td>\n",
       "      <td>No</td>\n",
       "      <td>No</td>\n",
       "      <td>One year</td>\n",
       "      <td>No</td>\n",
       "      <td>Mailed check</td>\n",
       "      <td>56.95</td>\n",
       "      <td>1889.50</td>\n",
       "      <td>No</td>\n",
       "    </tr>\n",
       "    <tr>\n",
       "      <th>2</th>\n",
       "      <td>Male</td>\n",
       "      <td>0</td>\n",
       "      <td>No</td>\n",
       "      <td>No</td>\n",
       "      <td>2</td>\n",
       "      <td>Yes</td>\n",
       "      <td>No</td>\n",
       "      <td>DSL</td>\n",
       "      <td>Yes</td>\n",
       "      <td>Yes</td>\n",
       "      <td>No</td>\n",
       "      <td>No</td>\n",
       "      <td>No</td>\n",
       "      <td>No</td>\n",
       "      <td>Month-to-month</td>\n",
       "      <td>Yes</td>\n",
       "      <td>Mailed check</td>\n",
       "      <td>53.85</td>\n",
       "      <td>108.15</td>\n",
       "      <td>Yes</td>\n",
       "    </tr>\n",
       "    <tr>\n",
       "      <th>3</th>\n",
       "      <td>Male</td>\n",
       "      <td>0</td>\n",
       "      <td>No</td>\n",
       "      <td>No</td>\n",
       "      <td>45</td>\n",
       "      <td>No</td>\n",
       "      <td>No phone service</td>\n",
       "      <td>DSL</td>\n",
       "      <td>Yes</td>\n",
       "      <td>No</td>\n",
       "      <td>Yes</td>\n",
       "      <td>Yes</td>\n",
       "      <td>No</td>\n",
       "      <td>No</td>\n",
       "      <td>One year</td>\n",
       "      <td>No</td>\n",
       "      <td>Bank transfer (automatic)</td>\n",
       "      <td>42.30</td>\n",
       "      <td>1840.75</td>\n",
       "      <td>No</td>\n",
       "    </tr>\n",
       "    <tr>\n",
       "      <th>4</th>\n",
       "      <td>Female</td>\n",
       "      <td>0</td>\n",
       "      <td>No</td>\n",
       "      <td>No</td>\n",
       "      <td>2</td>\n",
       "      <td>Yes</td>\n",
       "      <td>No</td>\n",
       "      <td>Fiber optic</td>\n",
       "      <td>No</td>\n",
       "      <td>No</td>\n",
       "      <td>No</td>\n",
       "      <td>No</td>\n",
       "      <td>No</td>\n",
       "      <td>No</td>\n",
       "      <td>Month-to-month</td>\n",
       "      <td>Yes</td>\n",
       "      <td>Electronic check</td>\n",
       "      <td>70.70</td>\n",
       "      <td>151.65</td>\n",
       "      <td>Yes</td>\n",
       "    </tr>\n",
       "  </tbody>\n",
       "</table>\n",
       "</div>"
      ],
      "text/plain": [
       "   gender  SeniorCitizen Partner Dependents  tenure PhoneService  \\\n",
       "0  Female              0     Yes         No       1           No   \n",
       "1    Male              0      No         No      34          Yes   \n",
       "2    Male              0      No         No       2          Yes   \n",
       "3    Male              0      No         No      45           No   \n",
       "4  Female              0      No         No       2          Yes   \n",
       "\n",
       "      MultipleLines InternetService OnlineSecurity OnlineBackup  \\\n",
       "0  No phone service             DSL             No          Yes   \n",
       "1                No             DSL            Yes           No   \n",
       "2                No             DSL            Yes          Yes   \n",
       "3  No phone service             DSL            Yes           No   \n",
       "4                No     Fiber optic             No           No   \n",
       "\n",
       "  DeviceProtection TechSupport StreamingTV StreamingMovies        Contract  \\\n",
       "0               No          No          No              No  Month-to-month   \n",
       "1              Yes          No          No              No        One year   \n",
       "2               No          No          No              No  Month-to-month   \n",
       "3              Yes         Yes          No              No        One year   \n",
       "4               No          No          No              No  Month-to-month   \n",
       "\n",
       "  PaperlessBilling              PaymentMethod  MonthlyCharges  TotalCharges  \\\n",
       "0              Yes           Electronic check           29.85         29.85   \n",
       "1               No               Mailed check           56.95       1889.50   \n",
       "2              Yes               Mailed check           53.85        108.15   \n",
       "3               No  Bank transfer (automatic)           42.30       1840.75   \n",
       "4              Yes           Electronic check           70.70        151.65   \n",
       "\n",
       "  label  \n",
       "0    No  \n",
       "1    No  \n",
       "2   Yes  \n",
       "3    No  \n",
       "4   Yes  "
      ]
     },
     "execution_count": 4,
     "metadata": {},
     "output_type": "execute_result"
    }
   ],
   "source": [
    "df = pd.read_csv(target_path(\"DataBase\\Cleaned_data.csv\"), encoding=\"utf-8\")\n",
    "df = df.drop(columns=['customerID'])\n",
    "df = df.rename(columns={'Churn': 'label'})\n",
    "df.head()"
   ]
  },
  {
   "cell_type": "markdown",
   "id": "b8545f36",
   "metadata": {},
   "source": [
    "# Declare variable"
   ]
  },
  {
   "cell_type": "code",
   "execution_count": 5,
   "id": "69458651",
   "metadata": {},
   "outputs": [],
   "source": [
    "categorical_feature_list = [\n",
    "    \"gender\",\n",
    "    \"Partner\",\n",
    "    \"Dependents\",\n",
    "    \"PhoneService\",\n",
    "    \"MultipleLines\",\n",
    "    \"InternetService\",\n",
    "    \"OnlineSecurity\",\n",
    "    \"OnlineBackup\",\n",
    "    \"DeviceProtection\",\n",
    "    \"TechSupport\",\n",
    "    \"StreamingTV\",\n",
    "    \"StreamingMovies\",\n",
    "    \"Contract\",\n",
    "    \"PaperlessBilling\",\n",
    "    \"PaymentMethod\",\n",
    "]\n",
    "\n",
    "numerical_feature_list = [\n",
    "    'SeniorCitizen', \n",
    "    'tenure', \n",
    "    'MonthlyCharges',\n",
    "    'TotalCharges', \n",
    "]\n",
    "\n",
    "one_hot_feature = ['tenure',\n",
    " 'Contract_Two year',\n",
    " 'TotalCharges',\n",
    " 'Contract_Month-to-month',\n",
    " 'InternetService_DSL',\n",
    " 'InternetService_Fiber optic',\n",
    " 'MonthlyCharges',\n",
    " 'PaperlessBilling_No',\n",
    " 'MultipleLines_No',\n",
    " 'InternetService_No',\n",
    " 'OnlineSecurity_No internet service',\n",
    " 'DeviceProtection_No internet service',\n",
    " 'StreamingTV_No internet service',\n",
    " 'OnlineBackup_No internet service',\n",
    " 'TechSupport_No internet service',\n",
    " 'StreamingMovies_No internet service',\n",
    " 'PhoneService_Yes',\n",
    " 'Dependents_Yes',\n",
    " 'StreamingMovies_No',\n",
    " 'OnlineSecurity_Yes',\n",
    " 'PaymentMethod_Credit card (automatic)',\n",
    " 'PaymentMethod_Electronic check',\n",
    " 'TechSupport_Yes',\n",
    " 'StreamingMovies_Yes',\n",
    " 'Partner_No',\n",
    " 'OnlineSecurity_No',\n",
    " 'gender_Male',\n",
    " 'StreamingTV_No',\n",
    " 'PaymentMethod_Mailed check',\n",
    " 'TechSupport_No',\n",
    " 'PaymentMethod_Bank transfer (automatic)',\n",
    " 'StreamingTV_Yes',\n",
    " 'gender_Female',\n",
    " 'Partner_Yes',\n",
    " 'OnlineBackup_Yes', \n",
    " 'Dependents_No',\n",
    " 'SeniorCitizen', \n",
    " 'PhoneService_No', \n",
    " 'MultipleLines_No phone service',\n",
    " 'Contract_One year'\n",
    "]\n",
    "\n",
    "normal_selected_feature = [\n",
    "    'Contract', \n",
    "    'tenure', \n",
    "    'MonthlyCharges', \n",
    "    'OnlineSecurity', \n",
    "    'TechSupport', \n",
    "    'InternetService', \n",
    "    'PaymentMethod', \n",
    "    'PaperlessBilling', \n",
    "    'TotalCharges', \n",
    "    'StreamingMovies', \n",
    "    'MultipleLines', \n",
    "    'OnlineBackup', \n",
    "    'SeniorCitizen'\n",
    "]"
   ]
  },
  {
   "cell_type": "markdown",
   "id": "9e8b8463",
   "metadata": {},
   "source": [
    "# Regression model"
   ]
  },
  {
   "cell_type": "markdown",
   "id": "8af2c4c4",
   "metadata": {},
   "source": [
    "## Data Preprocessing"
   ]
  },
  {
   "cell_type": "code",
   "execution_count": 8,
   "id": "aa910808",
   "metadata": {},
   "outputs": [
    {
     "data": {
      "text/html": [
       "<div>\n",
       "<style scoped>\n",
       "    .dataframe tbody tr th:only-of-type {\n",
       "        vertical-align: middle;\n",
       "    }\n",
       "\n",
       "    .dataframe tbody tr th {\n",
       "        vertical-align: top;\n",
       "    }\n",
       "\n",
       "    .dataframe thead th {\n",
       "        text-align: right;\n",
       "    }\n",
       "</style>\n",
       "<table border=\"1\" class=\"dataframe\">\n",
       "  <thead>\n",
       "    <tr style=\"text-align: right;\">\n",
       "      <th></th>\n",
       "      <th>SeniorCitizen</th>\n",
       "      <th>tenure</th>\n",
       "      <th>MonthlyCharges</th>\n",
       "      <th>TotalCharges</th>\n",
       "    </tr>\n",
       "  </thead>\n",
       "  <tbody>\n",
       "    <tr>\n",
       "      <th>0</th>\n",
       "      <td>0</td>\n",
       "      <td>1</td>\n",
       "      <td>29.85</td>\n",
       "      <td>29.85</td>\n",
       "    </tr>\n",
       "    <tr>\n",
       "      <th>1</th>\n",
       "      <td>0</td>\n",
       "      <td>34</td>\n",
       "      <td>56.95</td>\n",
       "      <td>1889.50</td>\n",
       "    </tr>\n",
       "    <tr>\n",
       "      <th>2</th>\n",
       "      <td>0</td>\n",
       "      <td>2</td>\n",
       "      <td>53.85</td>\n",
       "      <td>108.15</td>\n",
       "    </tr>\n",
       "    <tr>\n",
       "      <th>3</th>\n",
       "      <td>0</td>\n",
       "      <td>45</td>\n",
       "      <td>42.30</td>\n",
       "      <td>1840.75</td>\n",
       "    </tr>\n",
       "    <tr>\n",
       "      <th>4</th>\n",
       "      <td>0</td>\n",
       "      <td>2</td>\n",
       "      <td>70.70</td>\n",
       "      <td>151.65</td>\n",
       "    </tr>\n",
       "  </tbody>\n",
       "</table>\n",
       "</div>"
      ],
      "text/plain": [
       "   SeniorCitizen  tenure  MonthlyCharges  TotalCharges\n",
       "0              0       1           29.85         29.85\n",
       "1              0      34           56.95       1889.50\n",
       "2              0       2           53.85        108.15\n",
       "3              0      45           42.30       1840.75\n",
       "4              0       2           70.70        151.65"
      ]
     },
     "execution_count": 8,
     "metadata": {},
     "output_type": "execute_result"
    }
   ],
   "source": [
    "df_numerical = df[numerical_feature_list]\n",
    "df_numerical.head()"
   ]
  },
  {
   "cell_type": "markdown",
   "id": "09ddd08b",
   "metadata": {},
   "source": [
    "## Linear Regression"
   ]
  },
  {
   "cell_type": "markdown",
   "id": "d504b8d1",
   "metadata": {},
   "source": [
    "### lib"
   ]
  },
  {
   "cell_type": "code",
   "execution_count": 17,
   "id": "5d47020d",
   "metadata": {},
   "outputs": [
    {
     "name": "stdout",
     "output_type": "stream",
     "text": [
      "R² Score: 0.6700723339739993\n"
     ]
    }
   ],
   "source": [
    "X = df_numerical[['tenure']]\n",
    "y = df_numerical['TotalCharges']\n",
    "\n",
    "X_train, X_test, y_train, y_test = train_test_split(X, y, \n",
    "                                                    test_size=0.2, \n",
    "                                                    random_state=42)\n",
    "\n",
    "from sklearn.linear_model import LinearRegression\n",
    "\n",
    "model = LinearRegression()\n",
    "model.fit(X_train, y_train)\n",
    "\n",
    "y_pred = model.predict(X_test)\n",
    "\n",
    "print(\"R² Score:\", model.score(X_test, y_test))\n"
   ]
  },
  {
   "cell_type": "markdown",
   "id": "d429aeb1",
   "metadata": {},
   "source": [
    "### from scratch"
   ]
  },
  {
   "cell_type": "code",
   "execution_count": 20,
   "id": "595b9f62",
   "metadata": {},
   "outputs": [],
   "source": [
    "import numpy as np\n",
    "\n",
    "class UpdatedLinearRegressionScratch:\n",
    "    \"\"\"\n",
    "    Custom implementation of linear regression using gradient descent.\n",
    "    \"\"\"\n",
    "    def __init__(self, learning_rate=0.01, n_iterations=1000):\n",
    "        self.coef_ = None\n",
    "        self.intercept_ = None\n",
    "        self.learning_rate = learning_rate\n",
    "        self.n_iterations = n_iterations\n",
    "\n",
    "    def fit(self, X, y):\n",
    "        \"\"\"\n",
    "        Fits the linear regression model to the given data using gradient descent.\n",
    "        Args:\n",
    "            X: A numpy array of shape (n_samples, n_features) representing the input data.\n",
    "            y: A numpy array of shape (n_samples,) representing the target values.\n",
    "        \"\"\"\n",
    "        # Ensure X is numpy 2D\n",
    "        if isinstance(X, np.ndarray) == False:\n",
    "            X = np.array(X)\n",
    "        if X.ndim == 1:\n",
    "            X = X.reshape(-1, 1)\n",
    "        y = np.array(y)\n",
    "\n",
    "        n_samples, n_features = X.shape\n",
    "\n",
    "        # Initialize parameters\n",
    "        self.coef_ = np.zeros(n_features)\n",
    "        self.intercept_ = 0\n",
    "\n",
    "        # Gradient descent loop\n",
    "        for _ in range(self.n_iterations):\n",
    "            # Predictions\n",
    "            y_pred = np.dot(X, self.coef_) + self.intercept_\n",
    "\n",
    "            # Errors\n",
    "            residuals = y_pred - y\n",
    "\n",
    "            # Gradients\n",
    "            d_coef = (2/n_samples) * np.dot(X.T, residuals)\n",
    "            d_intercept = (2/n_samples) * np.sum(residuals)\n",
    "\n",
    "            # Update\n",
    "            self.coef_ -= self.learning_rate * d_coef\n",
    "            self.intercept_ -= self.learning_rate * d_intercept\n",
    "\n",
    "    def predict(self, X):\n",
    "        if isinstance(X, np.ndarray) == False:\n",
    "            X = np.array(X)\n",
    "        if X.ndim == 1:\n",
    "            X = X.reshape(-1, 1)\n",
    "        return np.dot(X, self.coef_) + self.intercept_\n",
    "\n",
    "    def score(self, X, y):\n",
    "        \"\"\"\n",
    "        Compute R^2 score.\n",
    "        \"\"\"\n",
    "        y_pred = self.predict(X)\n",
    "        ss_res = np.sum((y - y_pred)**2)\n",
    "        ss_tot = np.sum((y - np.mean(y))**2)\n",
    "        return 1 - ss_res/ss_tot\n"
   ]
  },
  {
   "cell_type": "code",
   "execution_count": 23,
   "id": "fbccbe4f",
   "metadata": {},
   "outputs": [
    {
     "name": "stdout",
     "output_type": "stream",
     "text": [
      "Intercept : 0.0012240712518423544\n",
      "Coef : 72.85249178160025\n",
      "R² Score: 0.668414822088552\n"
     ]
    }
   ],
   "source": [
    "# Convert to numpy (important for scratch implementation)\n",
    "X_train_np = X_train.values.reshape(-1, 1)\n",
    "X_test_np = X_test.values.reshape(-1, 1)\n",
    "y_train_np = y_train.values\n",
    "y_test_np = y_test.values\n",
    "\n",
    "# Train\n",
    "lr = 0.0001\n",
    "n_iter = 100\n",
    "lin_reg_updated = UpdatedLinearRegressionScratch(learning_rate=lr, n_iterations=n_iter)\n",
    "lin_reg_updated.fit(X_train_np, y_train_np)\n",
    "\n",
    "# Results\n",
    "print(f\"Intercept : {lin_reg_updated.intercept_}\")\n",
    "print(f\"Coef : {lin_reg_updated.coef_[0]}\")\n",
    "\n",
    "# Evaluate R²\n",
    "print(\"R² Score:\", lin_reg_updated.score(X_test_np, y_test_np))\n"
   ]
  },
  {
   "cell_type": "markdown",
   "id": "e34e8616",
   "metadata": {},
   "source": [
    "## multiple regression"
   ]
  },
  {
   "cell_type": "markdown",
   "id": "a6ab9ce1",
   "metadata": {},
   "source": [
    "### lib"
   ]
  },
  {
   "cell_type": "code",
   "execution_count": 24,
   "id": "eeefd927",
   "metadata": {},
   "outputs": [
    {
     "name": "stdout",
     "output_type": "stream",
     "text": [
      "R² Score: 0.8902238820918934\n"
     ]
    }
   ],
   "source": [
    "X = df_numerical[['tenure', 'MonthlyCharges']]\n",
    "y = df_numerical['TotalCharges']\n",
    "\n",
    "X_train, X_test, y_train, y_test = train_test_split(X, y, \n",
    "                                                    test_size=0.2, \n",
    "                                                    random_state=42)\n",
    "\n",
    "from sklearn.linear_model import LinearRegression\n",
    "\n",
    "model = LinearRegression()\n",
    "model.fit(X_train, y_train)\n",
    "\n",
    "y_pred = model.predict(X_test)\n",
    "\n",
    "print(\"R² Score:\", model.score(X_test, y_test))\n"
   ]
  },
  {
   "cell_type": "markdown",
   "id": "ada13c8d",
   "metadata": {},
   "source": [
    "### from scratch"
   ]
  },
  {
   "cell_type": "code",
   "execution_count": 25,
   "id": "eea2fba1",
   "metadata": {},
   "outputs": [],
   "source": [
    "import numpy as np\n",
    "\n",
    "class MultipleLinearRegressionScratch:\n",
    "    \"\"\"\n",
    "    Custom implementation of multiple linear regression using gradient descent.\n",
    "    \"\"\"\n",
    "    def __init__(self, learning_rate=0.01, n_iterations=1000):\n",
    "        self.coef_ = None\n",
    "        self.intercept_ = None\n",
    "        self.learning_rate = learning_rate\n",
    "        self.n_iterations = n_iterations\n",
    "\n",
    "    def fit(self, X, y):\n",
    "        \"\"\"\n",
    "        Fits the model to the given data using gradient descent.\n",
    "        X: numpy array (n_samples, n_features)\n",
    "        y: numpy array (n_samples,)\n",
    "        \"\"\"\n",
    "        # Ensure numpy arrays\n",
    "        X = np.array(X)\n",
    "        y = np.array(y)\n",
    "        if y.ndim == 1:\n",
    "            y = y.reshape(-1, 1)\n",
    "\n",
    "        n_samples, n_features = X.shape\n",
    "\n",
    "        # Initialize parameters\n",
    "        self.coef_ = np.zeros((n_features, 1))\n",
    "        self.intercept_ = 0\n",
    "\n",
    "        # Gradient descent\n",
    "        for _ in range(self.n_iterations):\n",
    "            # Predictions\n",
    "            y_pred = np.dot(X, self.coef_) + self.intercept_\n",
    "\n",
    "            # Errors\n",
    "            residuals = y_pred - y\n",
    "\n",
    "            # Gradients\n",
    "            d_coef = (2/n_samples) * np.dot(X.T, residuals)\n",
    "            d_intercept = (2/n_samples) * np.sum(residuals)\n",
    "\n",
    "            # Update\n",
    "            self.coef_ -= self.learning_rate * d_coef\n",
    "            self.intercept_ -= self.learning_rate * d_intercept\n",
    "\n",
    "        # Flatten coefficients for readability\n",
    "        self.coef_ = self.coef_.flatten()\n",
    "\n",
    "    def predict(self, X):\n",
    "        X = np.array(X)\n",
    "        return np.dot(X, self.coef_) + self.intercept_\n",
    "\n",
    "    def score(self, X, y):\n",
    "        \"\"\"Compute R² score\"\"\"\n",
    "        y = np.array(y)\n",
    "        y_pred = self.predict(X)\n",
    "        ss_res = np.sum((y - y_pred)**2)\n",
    "        ss_tot = np.sum((y - np.mean(y))**2)\n",
    "        return 1 - ss_res/ss_tot\n"
   ]
  },
  {
   "cell_type": "code",
   "execution_count": 27,
   "id": "348e6c6b",
   "metadata": {},
   "outputs": [
    {
     "name": "stdout",
     "output_type": "stream",
     "text": [
      "Intercept: 2.79483295655344e-16\n",
      "Coefficients: [0.69793274 0.47614057]\n",
      "R² Score (scaled): 0.8903244991041388\n"
     ]
    }
   ],
   "source": [
    "from sklearn.model_selection import train_test_split\n",
    "from sklearn.preprocessing import StandardScaler\n",
    "\n",
    "# Select multiple features\n",
    "X = df_numerical[['tenure', 'MonthlyCharges']]\n",
    "y = df_numerical['TotalCharges']\n",
    "\n",
    "# Train-test split\n",
    "X_train, X_test, y_train, y_test = train_test_split(X, y, test_size=0.2, random_state=42)\n",
    "\n",
    "# Scale data (important for gradient descent stability)\n",
    "scaler_X = StandardScaler()\n",
    "scaler_y = StandardScaler()\n",
    "\n",
    "X_train_scaled = scaler_X.fit_transform(X_train)\n",
    "X_test_scaled = scaler_X.transform(X_test)\n",
    "\n",
    "y_train_scaled = scaler_y.fit_transform(y_train.values.reshape(-1,1)).flatten()\n",
    "y_test_scaled = scaler_y.transform(y_test.values.reshape(-1,1)).flatten()\n",
    "\n",
    "# Train model\n",
    "lr = 0.001\n",
    "n_iter = 2000\n",
    "mlr = MultipleLinearRegressionScratch(learning_rate=lr, n_iterations=n_iter)\n",
    "mlr.fit(X_train_scaled, y_train_scaled)\n",
    "\n",
    "# Results\n",
    "print(\"Intercept:\", mlr.intercept_)\n",
    "print(\"Coefficients:\", mlr.coef_)\n",
    "print(\"R² Score (scaled):\", mlr.score(X_test_scaled, y_test_scaled))\n",
    "\n",
    "# Back to original scale predictions\n",
    "y_pred_scaled = mlr.predict(X_test_scaled)\n",
    "y_pred = scaler_y.inverse_transform(y_pred_scaled.reshape(-1,1)).flatten()\n"
   ]
  },
  {
   "cell_type": "markdown",
   "id": "d1d44adb",
   "metadata": {},
   "source": [
    "## Polynomial Regression"
   ]
  },
  {
   "cell_type": "markdown",
   "id": "9bff85fe",
   "metadata": {},
   "source": [
    "### from lib"
   ]
  },
  {
   "cell_type": "code",
   "execution_count": 28,
   "id": "db77cadd",
   "metadata": {},
   "outputs": [
    {
     "name": "stdout",
     "output_type": "stream",
     "text": [
      "Polynomial Feature Names: ['tenure' 'MonthlyCharges' 'tenure^2' 'tenure MonthlyCharges'\n",
      " 'MonthlyCharges^2']\n",
      "R² Score: 0.9991078011147159\n",
      "MSE: 4641.585647033761\n"
     ]
    }
   ],
   "source": [
    "from sklearn.preprocessing import PolynomialFeatures\n",
    "from sklearn.linear_model import LinearRegression\n",
    "from sklearn.model_selection import train_test_split\n",
    "from sklearn.metrics import r2_score, mean_squared_error\n",
    "\n",
    "X = df_numerical[['tenure', 'MonthlyCharges']]\n",
    "y = df_numerical['TotalCharges']\n",
    "\n",
    "X_train, X_test, y_train, y_test = train_test_split(X, y, test_size=0.2, random_state=42)\n",
    "\n",
    "poly = PolynomialFeatures(degree=2, include_bias=False)\n",
    "X_train_poly = poly.fit_transform(X_train)\n",
    "X_test_poly = poly.transform(X_test)\n",
    "\n",
    "model = LinearRegression()\n",
    "model.fit(X_train_poly, y_train)\n",
    "\n",
    "y_pred = model.predict(X_test_poly)\n",
    "\n",
    "print(\"Polynomial Feature Names:\", poly.get_feature_names_out(['tenure','MonthlyCharges']))\n",
    "print(\"R² Score:\", r2_score(y_test, y_pred))\n",
    "print(\"MSE:\", mean_squared_error(y_test, y_pred))\n"
   ]
  },
  {
   "cell_type": "markdown",
   "id": "c13b8589",
   "metadata": {},
   "source": [
    "### from scratch"
   ]
  },
  {
   "cell_type": "code",
   "execution_count": 29,
   "id": "3e342ec4",
   "metadata": {},
   "outputs": [],
   "source": [
    "import numpy as np\n",
    "\n",
    "class PolynomialRegressionScratch:\n",
    "    \"\"\"\n",
    "    Polynomial Regression using gradient descent (from scratch).\n",
    "    \"\"\"\n",
    "    def __init__(self, degree=2, learning_rate=0.01, n_iterations=1000):\n",
    "        self.degree = degree\n",
    "        self.learning_rate = learning_rate\n",
    "        self.n_iterations = n_iterations\n",
    "        self.coef_ = None\n",
    "        self.intercept_ = None\n",
    "\n",
    "    def _expand_features(self, X):\n",
    "        \"\"\"\n",
    "        Expand features into polynomial features (degree, interactions).\n",
    "        X: (n_samples, n_features)\n",
    "        \"\"\"\n",
    "        n_samples, n_features = X.shape\n",
    "        features = [np.ones((n_samples, 1))]  # bias column\n",
    "        \n",
    "        # Generate polynomial terms up to degree\n",
    "        for d in range(1, self.degree + 1):\n",
    "            for combo in np.ndindex(*(n_features,) * d):\n",
    "                if sorted(combo) == list(combo):  # avoid duplicates, enforce order\n",
    "                    term = np.prod(X[:, combo], axis=1).reshape(-1, 1)\n",
    "                    features.append(term)\n",
    "        return np.hstack(features)   # shape (n_samples, n_poly_features)\n",
    "\n",
    "    def fit(self, X, y):\n",
    "        X = np.array(X)\n",
    "        y = np.array(y).reshape(-1, 1)\n",
    "\n",
    "        # Expand to polynomial features\n",
    "        X_poly = self._expand_features(X)\n",
    "\n",
    "        n_samples, n_features = X_poly.shape\n",
    "\n",
    "        # Initialize coefficients\n",
    "        self.theta = np.zeros((n_features, 1))\n",
    "\n",
    "        # Gradient descent\n",
    "        for _ in range(self.n_iterations):\n",
    "            y_pred = X_poly @ self.theta\n",
    "            residuals = y_pred - y\n",
    "\n",
    "            grad = (2/n_samples) * (X_poly.T @ residuals)\n",
    "            self.theta -= self.learning_rate * grad\n",
    "\n",
    "        # Store results in sklearn-like format\n",
    "        self.intercept_ = self.theta[0][0]\n",
    "        self.coef_ = self.theta[1:].flatten()\n",
    "\n",
    "    def predict(self, X):\n",
    "        X = np.array(X)\n",
    "        X_poly = self._expand_features(X)\n",
    "        return (X_poly @ self.theta).flatten()\n",
    "\n",
    "    def score(self, X, y):\n",
    "        y = np.array(y)\n",
    "        y_pred = self.predict(X)\n",
    "        ss_res = np.sum((y - y_pred)**2)\n",
    "        ss_tot = np.sum((y - np.mean(y))**2)\n",
    "        return 1 - ss_res/ss_tot\n"
   ]
  },
  {
   "cell_type": "code",
   "execution_count": 34,
   "id": "5dbca6e8",
   "metadata": {},
   "outputs": [
    {
     "name": "stdout",
     "output_type": "stream",
     "text": [
      "Intercept: -6.750855534144396e-05\n",
      "Coefs: [ 0.00446269 -0.0013676   0.33113082  0.61702211  0.08356311]\n",
      "R² Score: 0.9779988792654429\n"
     ]
    }
   ],
   "source": [
    "\n",
    "X = df_numerical[['tenure', 'MonthlyCharges']].values\n",
    "y = df_numerical['TotalCharges'].values\n",
    "\n",
    "from sklearn.model_selection import train_test_split\n",
    "X_train, X_test, y_train, y_test = train_test_split(X, y, test_size=0.2, random_state=42)\n",
    "\n",
    "poly_reg = PolynomialRegressionScratch(degree=2, learning_rate=0.000000001, n_iterations=500)\n",
    "poly_reg.fit(X_train, y_train)\n",
    "\n",
    "print(\"Intercept:\", poly_reg.intercept_)\n",
    "print(\"Coefs:\", poly_reg.coef_)\n",
    "print(\"R² Score:\", poly_reg.score(X_test, y_test))\n",
    "\n",
    "y_pred = poly_reg.predict(X_test)\n"
   ]
  },
  {
   "cell_type": "markdown",
   "id": "bebd27f2",
   "metadata": {},
   "source": [
    "# Model"
   ]
  },
  {
   "cell_type": "markdown",
   "id": "625b9efe",
   "metadata": {},
   "source": [
    "## Deep Learning"
   ]
  },
  {
   "cell_type": "markdown",
   "id": "d68ee479",
   "metadata": {},
   "source": [
    "### MLP (Only from scratch)"
   ]
  },
  {
   "cell_type": "markdown",
   "id": "db9865ba",
   "metadata": {},
   "source": [
    "#### prepare dataset"
   ]
  },
  {
   "cell_type": "code",
   "execution_count": 4,
   "id": "acec774f",
   "metadata": {},
   "outputs": [
    {
     "name": "stderr",
     "output_type": "stream",
     "text": [
      "d:\\KMITL\\year_4\\Intro_to_DL_and_ML\\Project\\Telco-Churn-Prediction-Model-Intro-to-ML-and-DL-Project-\\Utils\\dataset_preparation.py:59: FutureWarning: Setting an item of incompatible dtype is deprecated and will raise in a future error of pandas. Value '[-0.4377492  -0.4377492  -0.4377492  ... -0.4377492   2.28441306\n",
      " -0.4377492 ]' has dtype incompatible with int64, please explicitly cast to a compatible dtype first.\n",
      "  X_train.loc[:, numerical_feature_list] = X_train_num\n",
      "d:\\KMITL\\year_4\\Intro_to_DL_and_ML\\Project\\Telco-Churn-Prediction-Model-Intro-to-ML-and-DL-Project-\\Utils\\dataset_preparation.py:59: FutureWarning: Setting an item of incompatible dtype is deprecated and will raise in a future error of pandas. Value '[-0.46568336  0.88553679 -1.28460467 ... -0.83419795 -0.83419795\n",
      " -0.26095304]' has dtype incompatible with int64, please explicitly cast to a compatible dtype first.\n",
      "  X_train.loc[:, numerical_feature_list] = X_train_num\n",
      "d:\\KMITL\\year_4\\Intro_to_DL_and_ML\\Project\\Telco-Churn-Prediction-Model-Intro-to-ML-and-DL-Project-\\Utils\\dataset_preparation.py:60: FutureWarning: Setting an item of incompatible dtype is deprecated and will raise in a future error of pandas. Value '[-0.4377492 -0.4377492 -0.4377492 ... -0.4377492 -0.4377492 -0.4377492]' has dtype incompatible with int64, please explicitly cast to a compatible dtype first.\n",
      "  X_test.loc[:, numerical_feature_list] = X_test_num\n",
      "d:\\KMITL\\year_4\\Intro_to_DL_and_ML\\Project\\Telco-Churn-Prediction-Model-Intro-to-ML-and-DL-Project-\\Utils\\dataset_preparation.py:60: FutureWarning: Setting an item of incompatible dtype is deprecated and will raise in a future error of pandas. Value '[-1.28460467  0.35323794  0.80364466 ... -0.62946762  1.49972776\n",
      " -1.28460467]' has dtype incompatible with int64, please explicitly cast to a compatible dtype first.\n",
      "  X_test.loc[:, numerical_feature_list] = X_test_num\n"
     ]
    }
   ],
   "source": [
    "X_train, y_train, X_test, y_test = model_input_preparation(\n",
    "    df,\n",
    "    categorical_feature_list,\n",
    "    numerical_feature_list,\n",
    "    one_hot_feature,\n",
    "    normal_selected_feature,\n",
    "    one_hot = True,\n",
    "    scaler = True,\n",
    "    test_size = 0.2,\n",
    "    seed = 42,\n",
    "    selected_feature = False,\n",
    "    IS_SMOTE = False\n",
    ")"
   ]
  },
  {
   "cell_type": "code",
   "execution_count": 5,
   "id": "24c1a7a5",
   "metadata": {},
   "outputs": [],
   "source": [
    "# Convert to PyTorch tensors\n",
    "X_train_tensor = torch.tensor(X_train.values, dtype=torch.float32)\n",
    "X_test_tensor = torch.tensor(X_test.values, dtype=torch.float32)\n",
    "y_train_tensor = torch.tensor(y_train.values, dtype=torch.long)\n",
    "y_test_tensor  = torch.tensor(y_test.values, dtype=torch.long) \n",
    "\n",
    "# Create DataLoader for batching\n",
    "train_dataset = TensorDataset(X_train_tensor, y_train_tensor)\n",
    "test_dataset = TensorDataset(X_test_tensor, y_test_tensor)\n",
    "\n",
    "train_loader = DataLoader(train_dataset, batch_size=32, shuffle=True)\n",
    "test_loader = DataLoader(test_dataset, batch_size=32, shuffle=False)\n",
    "\n"
   ]
  },
  {
   "cell_type": "markdown",
   "id": "cbe1d15b",
   "metadata": {},
   "source": [
    "#### Training function"
   ]
  },
  {
   "cell_type": "code",
   "execution_count": 36,
   "id": "409c4eb9",
   "metadata": {},
   "outputs": [],
   "source": [
    "def train_model(model, train_loader, test_loader, criterion, optimizer, scheduler=None, num_epochs=50, device=\"cpu\"):\n",
    "    model.to(device)\n",
    "    best_model_wts = None\n",
    "    best_acc = -float(\"inf\")\n",
    "    history = {\"train_loss\": [], \"val_loss\": [], \"accuracy\": []}\n",
    "\n",
    "    for epoch in range(num_epochs):\n",
    "        model.train()\n",
    "        running_loss = 0.0\n",
    "        for inputs, targets in train_loader:\n",
    "            inputs, targets = inputs.to(device), targets.to(device)\n",
    "\n",
    "            optimizer.zero_grad()\n",
    "            outputs = model(inputs)\n",
    "            loss = criterion(outputs, targets)\n",
    "            loss.backward()\n",
    "            optimizer.step()\n",
    "            running_loss += loss.item()\n",
    "        if scheduler:\n",
    "            scheduler.step()\n",
    "\n",
    "        avg_train_loss = running_loss / len(train_loader)\n",
    "\n",
    "        model.eval()\n",
    "        val_loss = 0.0\n",
    "        all_preds, all_targets = [], []\n",
    "        with torch.no_grad():\n",
    "            for inputs, targets in test_loader:\n",
    "                inputs, targets = inputs.to(device), targets.to(device)\n",
    "                outputs = model(inputs)\n",
    "                loss = criterion(outputs, targets)\n",
    "                val_loss += loss.item()\n",
    "\n",
    "                preds = torch.argmax(outputs, dim=1).cpu().numpy()\n",
    "                all_preds.extend(preds)\n",
    "                all_targets.extend(targets.cpu().numpy().flatten())\n",
    "\n",
    "        avg_val_loss = val_loss / len(test_loader)\n",
    "        acc = accuracy_score(all_targets, all_preds)\n",
    "\n",
    "        history[\"train_loss\"].append(avg_train_loss)\n",
    "        history[\"val_loss\"].append(avg_val_loss)\n",
    "        history[\"accuracy\"].append(acc)\n",
    "\n",
    "        if acc > best_acc:\n",
    "            best_acc = acc\n",
    "            best_model_wts = model.state_dict()\n",
    "\n",
    "        if (epoch+1) % 10 == 0:\n",
    "            print(f\"Epoch {epoch+1}/{num_epochs} | Train Loss: {avg_train_loss:.4f} | Val Loss: {avg_val_loss:.4f} | Acc: {acc:.4f}\")\n",
    "\n",
    "    if best_model_wts:\n",
    "        model.load_state_dict(best_model_wts)\n",
    "\n",
    "    return model, history\n"
   ]
  },
  {
   "cell_type": "markdown",
   "id": "09f2ab10",
   "metadata": {},
   "source": [
    "#### Evaluation Metrix"
   ]
  },
  {
   "cell_type": "code",
   "execution_count": null,
   "id": "dbadde06",
   "metadata": {},
   "outputs": [],
   "source": [
    "def evaluate_model(model, test_loader, criterion, device=\"cpu\"):\n",
    "    model.to(device)\n",
    "    model.eval()\n",
    "\n",
    "    all_preds, all_targets, all_probs = [], [], []\n",
    "    total_loss = 0.0\n",
    "\n",
    "    with torch.no_grad():\n",
    "        for inputs, targets in test_loader:\n",
    "            inputs, targets = inputs.to(device), targets.to(device)\n",
    "            outputs = model(inputs)\n",
    "            loss = criterion(outputs, targets)\n",
    "            total_loss += loss.item()\n",
    "\n",
    "            probs = torch.softmax(outputs, dim=1)[:, 1].cpu().numpy()\n",
    "            preds = torch.argmax(outputs, dim=1).cpu().numpy()\n",
    "            all_probs.extend(probs)\n",
    "            all_preds.extend(preds)\n",
    "            all_targets.extend(targets.cpu().numpy().flatten())\n",
    "\n",
    "    avg_loss = total_loss / len(test_loader)\n",
    "\n",
    "    # Metrics\n",
    "    cm = confusion_matrix(all_targets, all_preds)\n",
    "    acc = accuracy_score(all_targets, all_preds)\n",
    "    precision = precision_score(all_targets, all_preds)\n",
    "    recall = recall_score(all_targets, all_preds)  # Sensitivity\n",
    "    specificity = cm[0,0] / (cm[0,0] + cm[0,1])   # TNR\n",
    "    f1 = f1_score(all_targets, all_preds)\n",
    "    auc = roc_auc_score(all_targets, all_probs)\n",
    "    r2 = r2_score(all_targets, all_preds)\n",
    "\n",
    "    print(\"\\nEvaluation Results:\")\n",
    "    print(f\"Loss: {avg_loss:.4f}\")\n",
    "    print(f\"Accuracy: {acc:.4f}\")\n",
    "    print(f\"Precision: {precision:.4f}\")\n",
    "    print(f\"Sensitivity (Recall): {recall:.4f}\")\n",
    "    print(f\"Specificity (TNR): {specificity:.4f}\")\n",
    "    print(f\"F1-score: {f1:.4f}\")\n",
    "    print(f\"ROC AUC: {auc:.4f}\")\n",
    "    print(f\"R² score: {r2:.4f}\")\n",
    "\n",
    "    # --- PLOTS ---\n",
    "    # Confusion matrix\n",
    "    plt.figure(figsize=(5,4))\n",
    "    sns.heatmap(cm, annot=True, fmt=\"d\", cmap=\"Blues\")\n",
    "    plt.xlabel(\"Predicted\"); plt.ylabel(\"Actual\")\n",
    "    plt.title(\"Confusion Matrix\")\n",
    "    plt.show()\n",
    "\n",
    "    # ROC curve\n",
    "    fpr, tpr, _ = roc_curve(all_targets, all_probs)\n",
    "    plt.figure(figsize=(5,4))\n",
    "    plt.plot(fpr, tpr, label=f\"AUC = {auc:.4f}\")\n",
    "    plt.plot([0,1], [0,1], \"k--\")\n",
    "    plt.xlabel(\"False Positive Rate\"); plt.ylabel(\"True Positive Rate\")\n",
    "    plt.legend(); plt.title(\"ROC Curve\")\n",
    "    plt.show()\n",
    "\n",
    "    return {\n",
    "        \"loss\": avg_loss,\n",
    "        \"accuracy\": acc,\n",
    "        \"precision\": precision,\n",
    "        \"recall\": recall,\n",
    "        \"specificity\": specificity,\n",
    "        \"f1\": f1,\n",
    "        \"auc\": auc,\n",
    "        \"r2\": r2,\n",
    "        \"confusion_matrix\": cm\n",
    "    }\n"
   ]
  },
  {
   "cell_type": "code",
   "execution_count": 39,
   "id": "0e7ccfce",
   "metadata": {},
   "outputs": [
    {
     "name": "stdout",
     "output_type": "stream",
     "text": [
      "Epoch 10/10 | Train Loss: 0.3993 | Val Loss: 0.4126 | Acc: 0.8084\n",
      "\n",
      "Evaluation Results:\n",
      "Loss: 0.4126\n",
      "Accuracy: 0.8084\n",
      "Precision: 0.6667\n",
      "Sensitivity (Recall): 0.5523\n",
      "Specificity (TNR): 0.9006\n",
      "F1-score: 0.6041\n",
      "ROC AUC: 0.8499\n",
      "R² score: 0.0155\n"
     ]
    },
    {
     "data": {
      "image/png": "[encoded data removed]",
      "text/plain": [
       "<Figure size 500x400 with 2 Axes>"
      ]
     },
     "metadata": {},
     "output_type": "display_data"
    },
    {
     "data": {
      "image/png": "[encoded data removed]",
      "text/plain": [
       "<Figure size 500x400 with 1 Axes>"
      ]
     },
     "metadata": {},
     "output_type": "display_data"
    }
   ],
   "source": [
    "\n",
    "class ANN(nn.Module): \n",
    "    def __init__(self): \n",
    "        super(ANN, self).__init__() \n",
    "        self.fc1 = nn.Linear(in_features=45, out_features=128)\n",
    "        self.fc2 = nn.Linear(in_features=128, out_features=64) \n",
    "        self.fc3 = nn.Linear(in_features=64, out_features=32)\n",
    "        self.fc4 = nn.Linear(in_features=32, out_features=2)\n",
    "    def forward(self, x): \n",
    "        x = torch.relu(self.fc1(x)) \n",
    "        x = torch.relu(self.fc2(x)) \n",
    "        x = torch.relu(self.fc3(x)) \n",
    "        x = self.fc4(x) \n",
    "        return x\n",
    "model = ANN()\n",
    "criterion = nn.CrossEntropyLoss()\n",
    "optimizer = optim.Adam(model.parameters(), lr=0.001)\n",
    "\n",
    "# Train\n",
    "trained_model, history = train_model(model, train_loader, test_loader, criterion, optimizer, num_epochs=10)\n",
    "\n",
    "# Evaluate\n",
    "results = evaluate_model(trained_model, test_loader, criterion)\n"
   ]
  },
  {
   "cell_type": "markdown",
   "id": "e9a53c50",
   "metadata": {},
   "source": [
    "## Vector Base"
   ]
  },
  {
   "cell_type": "markdown",
   "id": "9c2d4c77",
   "metadata": {},
   "source": [
    "### Logistic Regression"
   ]
  },
  {
   "cell_type": "code",
   "execution_count": 9,
   "id": "e995480a",
   "metadata": {},
   "outputs": [
    {
     "name": "stderr",
     "output_type": "stream",
     "text": [
      "d:\\KMITL\\year_4\\Intro_to_DL_and_ML\\Project\\Telco-Churn-Prediction-Model-Intro-to-ML-and-DL-Project-\\Utils\\dataset_preparation.py:59: FutureWarning: Setting an item of incompatible dtype is deprecated and will raise in a future error of pandas. Value '[-0.4377492  -0.4377492  -0.4377492  ... -0.4377492   2.28441306\n",
      " -0.4377492 ]' has dtype incompatible with int64, please explicitly cast to a compatible dtype first.\n",
      "  X_train.loc[:, numerical_feature_list] = X_train_num\n",
      "d:\\KMITL\\year_4\\Intro_to_DL_and_ML\\Project\\Telco-Churn-Prediction-Model-Intro-to-ML-and-DL-Project-\\Utils\\dataset_preparation.py:59: FutureWarning: Setting an item of incompatible dtype is deprecated and will raise in a future error of pandas. Value '[-0.46568336  0.88553679 -1.28460467 ... -0.83419795 -0.83419795\n",
      " -0.26095304]' has dtype incompatible with int64, please explicitly cast to a compatible dtype first.\n",
      "  X_train.loc[:, numerical_feature_list] = X_train_num\n",
      "d:\\KMITL\\year_4\\Intro_to_DL_and_ML\\Project\\Telco-Churn-Prediction-Model-Intro-to-ML-and-DL-Project-\\Utils\\dataset_preparation.py:60: FutureWarning: Setting an item of incompatible dtype is deprecated and will raise in a future error of pandas. Value '[-0.4377492 -0.4377492 -0.4377492 ... -0.4377492 -0.4377492 -0.4377492]' has dtype incompatible with int64, please explicitly cast to a compatible dtype first.\n",
      "  X_test.loc[:, numerical_feature_list] = X_test_num\n",
      "d:\\KMITL\\year_4\\Intro_to_DL_and_ML\\Project\\Telco-Churn-Prediction-Model-Intro-to-ML-and-DL-Project-\\Utils\\dataset_preparation.py:60: FutureWarning: Setting an item of incompatible dtype is deprecated and will raise in a future error of pandas. Value '[-1.28460467  0.35323794  0.80364466 ... -0.62946762  1.49972776\n",
      " -1.28460467]' has dtype incompatible with int64, please explicitly cast to a compatible dtype first.\n",
      "  X_test.loc[:, numerical_feature_list] = X_test_num\n"
     ]
    }
   ],
   "source": [
    "X_train, y_train, X_test, y_test = model_input_preparation(\n",
    "    df,\n",
    "    categorical_feature_list,\n",
    "    numerical_feature_list,\n",
    "    one_hot_feature,\n",
    "    normal_selected_feature,\n",
    "    one_hot = True,\n",
    "    scaler = True,\n",
    "    test_size = 0.2,\n",
    "    seed = 42,\n",
    "    selected_feature = False,\n",
    "    IS_SMOTE = False\n",
    ")"
   ]
  },
  {
   "cell_type": "markdown",
   "id": "9dd38de7",
   "metadata": {},
   "source": [
    "##### Optuna auto-tuning hyper parameter Function"
   ]
  },
  {
   "cell_type": "code",
   "execution_count": 40,
   "id": "cc5df568",
   "metadata": {},
   "outputs": [],
   "source": [
    "def Logistic_model_automating_Hyperparamrter(trial, x_train, y_train, x_test, y_test):\n",
    "\n",
    "    C = trial.suggest_categorical(\"C\", [0.1, 1, 10])\n",
    "    penalty = trial.suggest_categorical(\"penalty\", [\"l1\", \"l2\"])\n",
    "    solver = trial.suggest_categorical(\"solver\", [\"liblinear\", \"saga\", \"lbfgs\"])\n",
    "\n",
    "\n",
    "    if penalty == \"l1\" and solver not in [\"liblinear\", \"saga\"]:\n",
    "        raise optuna.exceptions.TrialPruned()\n",
    "    if penalty == \"l2\" and solver not in [\"liblinear\", \"saga\", \"lbfgs\"]:\n",
    "        raise optuna.exceptions.TrialPruned()\n",
    "\n",
    "    model = LogisticRegression(\n",
    "        penalty=penalty,\n",
    "        C=C,\n",
    "        solver=solver,\n",
    "        max_iter=100,\n",
    "    )\n",
    "\n",
    "    model.fit(x_train, y_train)\n",
    "    preds = model.predict(x_test)\n",
    "    accuracy = accuracy_score(y_test, preds)\n",
    "    return accuracy\n"
   ]
  },
  {
   "cell_type": "markdown",
   "id": "6c01635e",
   "metadata": {},
   "source": [
    "##### Lib model"
   ]
  },
  {
   "cell_type": "code",
   "execution_count": 43,
   "id": "ae6b130c",
   "metadata": {},
   "outputs": [
    {
     "name": "stdout",
     "output_type": "stream",
     "text": [
      "Logistic regression: training set acc: 0.8033368832090877, test set 0.8232789212207239\n"
     ]
    },
    {
     "name": "stderr",
     "output_type": "stream",
     "text": [
      "c:\\Users\\korph\\anaconda3\\Lib\\site-packages\\sklearn\\linear_model\\_sag.py:348: ConvergenceWarning: The max_iter was reached which means the coef_ did not converge\n",
      "  warnings.warn(\n"
     ]
    }
   ],
   "source": [
    "model = LogisticRegression(\n",
    "    random_state=42,\n",
    "    C = 1,\n",
    "    penalty='l1',\n",
    "    solver='saga'\n",
    ").fit(X_train, y_train)\n",
    "print(f\"Logistic regression: training set acc: {model.score(X_train, y_train)}, test set {model.score(X_test, y_test)}\")"
   ]
  },
  {
   "cell_type": "code",
   "execution_count": 51,
   "id": "70ab3758",
   "metadata": {},
   "outputs": [
    {
     "name": "stdout",
     "output_type": "stream",
     "text": [
      "\n",
      "Evaluation Results:\n",
      "Accuracy: 0.8233\n",
      "Precision: 0.6902\n",
      "Sensitivity (Recall): 0.6032\n",
      "Specificity (TNR): 0.9025\n",
      "F1-score: 0.6438\n",
      "ROC AUC: 0.8624\n",
      "R² score: 0.0921\n",
      "              precision    recall  f1-score   support\n",
      "\n",
      "           0       0.86      0.90      0.88      1036\n",
      "           1       0.69      0.60      0.64       373\n",
      "\n",
      "    accuracy                           0.82      1409\n",
      "   macro avg       0.78      0.75      0.76      1409\n",
      "weighted avg       0.82      0.82      0.82      1409\n",
      "\n"
     ]
    },
    {
     "data": {
      "image/png": "[encoded data removed]",
      "text/plain": [
       "<Figure size 500x400 with 2 Axes>"
      ]
     },
     "metadata": {},
     "output_type": "display_data"
    },
    {
     "data": {
      "image/png": "[encoded data removed]",
      "text/plain": [
       "<Figure size 500x400 with 1 Axes>"
      ]
     },
     "metadata": {},
     "output_type": "display_data"
    },
    {
     "data": {
      "text/plain": [
       "{'accuracy': 0.8232789212207239,\n",
       " 'precision': 0.6901840490797546,\n",
       " 'recall': 0.6032171581769437,\n",
       " 'specificity': np.float64(0.9025096525096525),\n",
       " 'f1': 0.6437768240343348,\n",
       " 'auc': 0.8624310350181664,\n",
       " 'r2': 0.09209218793669216,\n",
       " 'confusion_matrix': array([[935, 101],\n",
       "        [148, 225]])}"
      ]
     },
     "execution_count": 51,
     "metadata": {},
     "output_type": "execute_result"
    }
   ],
   "source": [
    "evaluate_sklearn_model(model, X_test, y_test)"
   ]
  },
  {
   "cell_type": "markdown",
   "id": "b31af768",
   "metadata": {},
   "source": [
    "##### From scratch model"
   ]
  },
  {
   "cell_type": "code",
   "execution_count": 5,
   "id": "183014d3",
   "metadata": {},
   "outputs": [],
   "source": [
    "class LogisticRegressionScratchBothMSEandBCE:\n",
    "    def __init__(self, learning_rate=0.001, num_iterations=1000):\n",
    "        self.learning_rate = learning_rate\n",
    "        self.num_iterations = num_iterations\n",
    "        self.w = None\n",
    "        self.b = None\n",
    "        self.losses_MSE = []\n",
    "        self.losses_BCE = []\n",
    "\n",
    "    def sigmoid(self, z):\n",
    "        return 1 / (1 + np.exp(-z))\n",
    "\n",
    "    def predict(self, X):\n",
    "        z = np.dot(X, self.w) + self.b\n",
    "        probs = self.sigmoid(z)\n",
    "\n",
    "        # Return the class with the highest probability\n",
    "        return np.where(probs >= 0.5, 1, 0)\n",
    "\n",
    "    def initialize_weights(self, n_features):\n",
    "        self.w = np.zeros((n_features, 1))  # Init with the same column number as feature\n",
    "        self.b = 0\n",
    "\n",
    "    def cost_function_MSE(self, h, y):\n",
    "        m = len(y)\n",
    "        # reg_term = (0.01 / (2 * m)) * np.sum(self.w ** 2)\n",
    "        cost = (1/m) * np.sum((h - y)**2)\n",
    "\n",
    "        return cost #+ reg_term\n",
    "\n",
    "    def cost_function_BCE(self, h, y):\n",
    "        m = len(y)\n",
    "        # reg_term = (0.01 / (2 * m)) * np.sum(self.w ** 2)\n",
    "        cost = -(1 / m) * np.sum(y * np.log(h + 1e-8) + (1 - y) * np.log(1 - h + 1e-8))\n",
    "\n",
    "        return cost #+ reg_term\n",
    "\n",
    "    def fit(self, X, y):\n",
    "        X = np.array(X)\n",
    "        y = np.array(y).reshape(-1, 1)  # Ensure y is a column vector\n",
    "        print(X.shape, y.shape)\n",
    "        m = len(y)\n",
    "        n_features = X.shape[1]\n",
    "        self.initialize_weights(n_features)\n",
    "\n",
    "        for i in range(self.num_iterations):\n",
    "            # Forward prop\n",
    "            probs = self.predict(X)\n",
    "\n",
    "            # Cost\n",
    "            # error = -(1 / m) * np.sum(y * np.log(probs + 1e-8) + (1 - y) * np.log(1 - probs + 1e-8))\n",
    "            MSE_error = self.cost_function_MSE(probs, y)\n",
    "            self.losses_MSE.append(MSE_error)\n",
    "\n",
    "            BCE_error = self.cost_function_BCE(probs, y)\n",
    "            self.losses_BCE.append(BCE_error)\n",
    "\n",
    "            # Calculate the gradient of the error with respect to the weights\n",
    "            gradient_w = (1 / m) * np.dot(X.T, (probs - y))\n",
    "            gradient_b = (1 / m) * np.sum(probs - y)\n",
    "\n",
    "            # Update the weights using the gradient and the learning rate\n",
    "            self.w -= self.learning_rate * gradient_w\n",
    "            self.b -= self.learning_rate * gradient_b\n",
    "\n",
    "            # cost compute if more iteration (optional)\n",
    "            if i % 100 == 0:\n",
    "                print(f\"Iteration {i}, MSE_Cost: {MSE_error}, BCE_Cost: {BCE_error}\")\n",
    "\n",
    "    def plot_loss(self):\n",
    "\n",
    "        # plt.subtitle(\"Comparing MSE and BCE chart\")\n",
    "        plt.figure(figsize=(16, 5))\n",
    "\n",
    "        plt.subplot(1, 2, 1)\n",
    "        plt.plot(range(self.num_iterations), self.losses_MSE, label='MSE Loss')\n",
    "        plt.xlabel(\"Iteration\")\n",
    "        plt.ylabel(\"Loss (MSE)\")\n",
    "        plt.title(\"Loss Curve: Logistic Regression (MSE)\")\n",
    "        plt.grid(True)\n",
    "        plt.legend()\n",
    "        plt.tight_layout()\n",
    "\n",
    "        plt.subplot(1, 2, 2)\n",
    "        plt.plot(range(self.num_iterations), self.losses_BCE, label='BCE Loss')\n",
    "        plt.xlabel(\"Iteration\")\n",
    "        plt.ylabel(\"Loss (BCE)\")\n",
    "        plt.title(\"Loss Curve: Logistic Regression (BCE)\")\n",
    "        plt.grid(True)\n",
    "        plt.legend()\n",
    "        plt.tight_layout()\n",
    "\n",
    "        plt.show()\n"
   ]
  },
  {
   "cell_type": "code",
   "execution_count": null,
   "id": "85cfeddb",
   "metadata": {},
   "outputs": [
    {
     "name": "stdout",
     "output_type": "stream",
     "text": [
      "(5634, 45) (5634, 1)\n",
      "Iteration 0, MSE_Cost: 0.7344692935747249, BCE_Cost: 13.529424370520928\n",
      "Iteration 100, MSE_Cost: 0.25452609158679446, BCE_Cost: 4.688543866671582\n",
      "Iteration 200, MSE_Cost: 0.24849130280440185, BCE_Cost: 4.577378949093595\n",
      "Iteration 300, MSE_Cost: 0.25576854810081645, BCE_Cost: 4.71143076146705\n",
      "Iteration 400, MSE_Cost: 0.24139155129570464, BCE_Cost: 4.446596693119493\n",
      "Iteration 500, MSE_Cost: 0.2445864394746184, BCE_Cost: 4.5054487083078385\n",
      "Iteration 600, MSE_Cost: 0.2552360667376642, BCE_Cost: 4.701622092268993\n",
      "Iteration 700, MSE_Cost: 0.24724884629037983, BCE_Cost: 4.554492054298127\n",
      "Iteration 800, MSE_Cost: 0.25576854810081645, BCE_Cost: 4.71143076146705\n",
      "Iteration 900, MSE_Cost: 0.2334043308484203, BCE_Cost: 4.299466655148627\n"
     ]
    },
    {
     "data": {
      "image/png": "[encoded data removed]",
      "text/plain": [
       "<Figure size 1600x500 with 2 Axes>"
      ]
     },
     "metadata": {},
     "output_type": "display_data"
    }
   ],
   "source": [
    "\n",
    "model = LogisticRegressionScratchBothMSEandBCE(learning_rate=1e-4, num_iterations=1000)\n",
    "model.fit(X_train, y_train)"
   ]
  },
  {
   "cell_type": "code",
   "execution_count": 12,
   "id": "b1069c05",
   "metadata": {},
   "outputs": [
    {
     "name": "stdout",
     "output_type": "stream",
     "text": [
      "\n",
      "Evaluation Results:\n",
      "Accuracy: 0.7495\n",
      "Precision: 0.8333\n",
      "Sensitivity (Recall): 0.0670\n",
      "Specificity (TNR): 0.9952\n",
      "F1-score: 0.1241\n",
      "ROC AUC: 0.5311\n",
      "R² score: -0.2871\n",
      "              precision    recall  f1-score   support\n",
      "\n",
      "           0       0.75      1.00      0.85      1036\n",
      "           1       0.83      0.07      0.12       373\n",
      "\n",
      "    accuracy                           0.75      1409\n",
      "   macro avg       0.79      0.53      0.49      1409\n",
      "weighted avg       0.77      0.75      0.66      1409\n",
      "\n"
     ]
    },
    {
     "data": {
      "image/png": "[encoded data removed]",
      "text/plain": [
       "<Figure size 500x400 with 2 Axes>"
      ]
     },
     "metadata": {},
     "output_type": "display_data"
    },
    {
     "data": {
      "image/png": "[encoded data removed]",
      "text/plain": [
       "<Figure size 500x400 with 1 Axes>"
      ]
     },
     "metadata": {},
     "output_type": "display_data"
    },
    {
     "data": {
      "text/plain": [
       "{'accuracy': 0.7494677075940384,\n",
       " 'precision': 0.8333333333333334,\n",
       " 'recall': 0.06702412868632708,\n",
       " 'specificity': np.float64(0.9951737451737451),\n",
       " 'f1': 0.12406947890818859,\n",
       " 'auc': 0.5310989369300361,\n",
       " 'r2': -0.28711428778452897,\n",
       " 'confusion_matrix': array([[1031,    5],\n",
       "        [ 348,   25]])}"
      ]
     },
     "execution_count": 12,
     "metadata": {},
     "output_type": "execute_result"
    }
   ],
   "source": [
    "evaluate_sklearn_model(model, X_test, y_test)"
   ]
  },
  {
   "cell_type": "markdown",
   "id": "03ff0364",
   "metadata": {},
   "source": [
    "### Naive Bayes"
   ]
  },
  {
   "cell_type": "code",
   "execution_count": 14,
   "id": "c7f91c24",
   "metadata": {},
   "outputs": [
    {
     "name": "stderr",
     "output_type": "stream",
     "text": [
      "d:\\KMITL\\year_4\\Intro_to_DL_and_ML\\Project\\Telco-Churn-Prediction-Model-Intro-to-ML-and-DL-Project-\\Utils\\dataset_preparation.py:59: FutureWarning: Setting an item of incompatible dtype is deprecated and will raise in a future error of pandas. Value '[-0.38905447 -0.38905447 -0.38905447 ... -0.38905447 -0.38905447\n",
      " -0.38905447]' has dtype incompatible with int64, please explicitly cast to a compatible dtype first.\n",
      "  X_train.loc[:, numerical_feature_list] = X_train_num\n",
      "d:\\KMITL\\year_4\\Intro_to_DL_and_ML\\Project\\Telco-Churn-Prediction-Model-Intro-to-ML-and-DL-Project-\\Utils\\dataset_preparation.py:59: FutureWarning: Setting an item of incompatible dtype is deprecated and will raise in a future error of pandas. Value '[-0.26792424  1.11636705 -1.10688866 ... -0.43571712 -1.02299222\n",
      " -0.72935467]' has dtype incompatible with int64, please explicitly cast to a compatible dtype first.\n",
      "  X_train.loc[:, numerical_feature_list] = X_train_num\n",
      "d:\\KMITL\\year_4\\Intro_to_DL_and_ML\\Project\\Telco-Churn-Prediction-Model-Intro-to-ML-and-DL-Project-\\Utils\\dataset_preparation.py:60: FutureWarning: Setting an item of incompatible dtype is deprecated and will raise in a future error of pandas. Value '[-0.38905447 -0.38905447 -0.38905447 ... -0.38905447 -0.38905447\n",
      " -0.38905447]' has dtype incompatible with int64, please explicitly cast to a compatible dtype first.\n",
      "  X_test.loc[:, numerical_feature_list] = X_test_num\n",
      "d:\\KMITL\\year_4\\Intro_to_DL_and_ML\\Project\\Telco-Churn-Prediction-Model-Intro-to-ML-and-DL-Project-\\Utils\\dataset_preparation.py:60: FutureWarning: Setting an item of incompatible dtype is deprecated and will raise in a future error of pandas. Value '[-1.10688866  0.57104018  1.03247061 ... -0.43571712  1.74559036\n",
      " -1.10688866]' has dtype incompatible with int64, please explicitly cast to a compatible dtype first.\n",
      "  X_test.loc[:, numerical_feature_list] = X_test_num\n"
     ]
    }
   ],
   "source": [
    "X_train, y_train, X_test, y_test = model_input_preparation(\n",
    "    df,\n",
    "    categorical_feature_list,\n",
    "    numerical_feature_list,\n",
    "    one_hot_feature,\n",
    "    normal_selected_feature,\n",
    "    one_hot = True,\n",
    "    scaler = True,\n",
    "    test_size = 0.2,\n",
    "    seed = 42,\n",
    "    selected_feature = False,\n",
    "    IS_SMOTE = True\n",
    ")"
   ]
  },
  {
   "cell_type": "markdown",
   "id": "e56714ce",
   "metadata": {},
   "source": [
    "##### Lib Naive bayes"
   ]
  },
  {
   "cell_type": "code",
   "execution_count": null,
   "id": "b0630f07",
   "metadata": {},
   "outputs": [
    {
     "name": "stdout",
     "output_type": "stream",
     "text": [
      "Logistic regression: training set acc: 0.7550749154180764, test set 0.7061745919091554\n"
     ]
    }
   ],
   "source": [
    "model = GaussianNB().fit(X_train, y_train)\n",
    "print(f\"Logistic regression: training set acc: {model.score(X_train, y_train)}, test set {model.score(X_test, y_test)}\")"
   ]
  },
  {
   "cell_type": "markdown",
   "id": "f5055984",
   "metadata": {},
   "source": [
    "##### From scratch NB"
   ]
  },
  {
   "cell_type": "code",
   "execution_count": 23,
   "id": "950ad178",
   "metadata": {},
   "outputs": [],
   "source": [
    "import numpy as np\n",
    "import pandas as pd\n",
    "from math import sqrt, pi, exp\n",
    "\n",
    "class NaiveBayesClassifier:\n",
    "    def __init__(self, categorical_features=None, numerical_features=None, use_add1_smoothing=True):\n",
    "        self.categorical_features = categorical_features or []\n",
    "        self.numerical_features = numerical_features or []\n",
    "        self.use_add1_smoothing = use_add1_smoothing\n",
    "\n",
    "    def fit(self, X, y):\n",
    "        \"\"\" Fit Naive Bayes model \"\"\"\n",
    "        X, y = pd.DataFrame(X), pd.Series(y)\n",
    "\n",
    "        self.classes_, counts = np.unique(y, return_counts=True)\n",
    "        self.class_priors_ = counts / counts.sum()\n",
    "\n",
    "        # --- Likelihoods for categorical ---\n",
    "        self.likelihoods_categorical_ = {}\n",
    "        self.feature_values_ = {}\n",
    "        for feature in self.categorical_features:\n",
    "            self.feature_values_[feature] = X[feature].unique()\n",
    "            self.likelihoods_categorical_[feature] = {}\n",
    "            for cls in self.classes_:\n",
    "                mask = (y == cls)\n",
    "                total = mask.sum()\n",
    "                value_counts = X.loc[mask, feature].value_counts().to_dict()\n",
    "\n",
    "                probs = {}\n",
    "                for val in self.feature_values_[feature]:\n",
    "                    count = value_counts.get(val, 0)\n",
    "                    if self.use_add1_smoothing:\n",
    "                        probs[val] = (count + 1) / (total + len(self.feature_values_[feature]))\n",
    "                    else:\n",
    "                        probs[val] = count / total if total > 0 else 0.0\n",
    "                self.likelihoods_categorical_[feature][cls] = probs\n",
    "\n",
    "        # --- Mean & Std for numerical ---\n",
    "        self.numerical_stats_ = {}\n",
    "        for feature in self.numerical_features:\n",
    "            self.numerical_stats_[feature] = {}\n",
    "            for cls in self.classes_:\n",
    "                values = X.loc[y == cls, feature]\n",
    "                mean = values.mean()\n",
    "                std = values.std(ddof=1)\n",
    "                if std == 0:\n",
    "                    std = 1e-9\n",
    "                self.numerical_stats_[feature][cls] = (mean, std)\n",
    "\n",
    "        return self\n",
    "\n",
    "    def _normal_pdf(self, x, mean, std):\n",
    "        return (1 / (sqrt(2 * pi) * std)) * np.exp(-((x - mean) ** 2) / (2 * std ** 2))\n",
    "\n",
    "    def _joint_log_likelihood(self, x_row):\n",
    "        \"\"\" Compute log-likelihood for each class for one sample \"\"\"\n",
    "        log_probs = []\n",
    "        for i, cls in enumerate(self.classes_):\n",
    "            log_prob = np.log(self.class_priors_[i])\n",
    "\n",
    "            # categorical\n",
    "            for feature in self.categorical_features:\n",
    "                val = x_row[feature]\n",
    "                prob = self.likelihoods_categorical_[feature][cls].get(val, 1e-9)\n",
    "                log_prob += np.log(prob)\n",
    "\n",
    "            # numerical\n",
    "            for feature in self.numerical_features:\n",
    "                mean, std = self.numerical_stats_[feature][cls]\n",
    "                prob = self._normal_pdf(x_row[feature], mean, std)\n",
    "                log_prob += np.log(prob + 1e-9)  # avoid log(0)\n",
    "\n",
    "            log_probs.append(log_prob)\n",
    "        return np.array(log_probs)\n",
    "\n",
    "    def predict_proba(self, X):\n",
    "        X = pd.DataFrame(X)\n",
    "        all_probs = []\n",
    "        for _, row in X.iterrows():\n",
    "            log_likelihoods = self._joint_log_likelihood(row)\n",
    "            max_log = np.max(log_likelihoods)\n",
    "            probs = np.exp(log_likelihoods - max_log)  # stability trick\n",
    "            probs /= probs.sum()\n",
    "            all_probs.append(probs)\n",
    "        return np.array(all_probs)\n",
    "\n",
    "    def predict(self, X):\n",
    "        probs = self.predict_proba(X)\n",
    "        return self.classes_[np.argmax(probs, axis=1)]\n"
   ]
  },
  {
   "cell_type": "code",
   "execution_count": 29,
   "id": "82171b1c",
   "metadata": {},
   "outputs": [
    {
     "name": "stderr",
     "output_type": "stream",
     "text": [
      "d:\\KMITL\\year_4\\Intro_to_DL_and_ML\\Project\\Telco-Churn-Prediction-Model-Intro-to-ML-and-DL-Project-\\Utils\\dataset_preparation.py:59: FutureWarning: Setting an item of incompatible dtype is deprecated and will raise in a future error of pandas. Value '[-0.4377492  -0.4377492  -0.4377492  ... -0.4377492   2.28441306\n",
      " -0.4377492 ]' has dtype incompatible with int64, please explicitly cast to a compatible dtype first.\n",
      "  X_train.loc[:, numerical_feature_list] = X_train_num\n",
      "d:\\KMITL\\year_4\\Intro_to_DL_and_ML\\Project\\Telco-Churn-Prediction-Model-Intro-to-ML-and-DL-Project-\\Utils\\dataset_preparation.py:59: FutureWarning: Setting an item of incompatible dtype is deprecated and will raise in a future error of pandas. Value '[-0.46568336  0.88553679 -1.28460467 ... -0.83419795 -0.83419795\n",
      " -0.26095304]' has dtype incompatible with int64, please explicitly cast to a compatible dtype first.\n",
      "  X_train.loc[:, numerical_feature_list] = X_train_num\n",
      "d:\\KMITL\\year_4\\Intro_to_DL_and_ML\\Project\\Telco-Churn-Prediction-Model-Intro-to-ML-and-DL-Project-\\Utils\\dataset_preparation.py:60: FutureWarning: Setting an item of incompatible dtype is deprecated and will raise in a future error of pandas. Value '[-0.4377492 -0.4377492 -0.4377492 ... -0.4377492 -0.4377492 -0.4377492]' has dtype incompatible with int64, please explicitly cast to a compatible dtype first.\n",
      "  X_test.loc[:, numerical_feature_list] = X_test_num\n",
      "d:\\KMITL\\year_4\\Intro_to_DL_and_ML\\Project\\Telco-Churn-Prediction-Model-Intro-to-ML-and-DL-Project-\\Utils\\dataset_preparation.py:60: FutureWarning: Setting an item of incompatible dtype is deprecated and will raise in a future error of pandas. Value '[-1.28460467  0.35323794  0.80364466 ... -0.62946762  1.49972776\n",
      " -1.28460467]' has dtype incompatible with int64, please explicitly cast to a compatible dtype first.\n",
      "  X_test.loc[:, numerical_feature_list] = X_test_num\n"
     ]
    }
   ],
   "source": [
    "X_train, y_train, X_test, y_test = model_input_preparation(\n",
    "    df,\n",
    "    categorical_feature_list,\n",
    "    numerical_feature_list,\n",
    "    one_hot_feature,\n",
    "    normal_selected_feature,\n",
    "    one_hot = False,\n",
    "    scaler = True,\n",
    "    test_size = 0.2,\n",
    "    seed = 42,\n",
    "    selected_feature = False,\n",
    "    IS_SMOTE = False\n",
    ")"
   ]
  },
  {
   "cell_type": "code",
   "execution_count": 31,
   "id": "fb3d254c",
   "metadata": {},
   "outputs": [
    {
     "data": {
      "text/plain": [
       "<__main__.NaiveBayesClassifier at 0x1a8eeda30d0>"
      ]
     },
     "execution_count": 31,
     "metadata": {},
     "output_type": "execute_result"
    }
   ],
   "source": [
    "# 1. กำหนด Features และ Target\n",
    "categorical_feats = categorical_feature_list\n",
    "numerical_feats = numerical_feature_list\n",
    "\n",
    "# 2. fit model\n",
    "model = NaiveBayesClassifier(categorical_feats, numerical_feats)\n",
    "model.fit(X_train, y_train)"
   ]
  },
  {
   "cell_type": "code",
   "execution_count": 33,
   "id": "18e4cb4e",
   "metadata": {},
   "outputs": [
    {
     "name": "stdout",
     "output_type": "stream",
     "text": [
      "\n",
      "Evaluation Results:\n",
      "Accuracy: 0.7367\n",
      "Precision: 0.5016\n",
      "Sensitivity (Recall): 0.8391\n",
      "Specificity (TNR): 0.6998\n",
      "F1-score: 0.6279\n",
      "ROC AUC: 0.8405\n",
      "R² score: -0.3527\n",
      "              precision    recall  f1-score   support\n",
      "\n",
      "           0       0.92      0.70      0.80      1036\n",
      "           1       0.50      0.84      0.63       373\n",
      "\n",
      "    accuracy                           0.74      1409\n",
      "   macro avg       0.71      0.77      0.71      1409\n",
      "weighted avg       0.81      0.74      0.75      1409\n",
      "\n"
     ]
    },
    {
     "data": {
      "image/png": "[encoded data removed]",
      "text/plain": [
       "<Figure size 500x400 with 2 Axes>"
      ]
     },
     "metadata": {},
     "output_type": "display_data"
    },
    {
     "data": {
      "image/png": "[encoded data removed]",
      "text/plain": [
       "<Figure size 500x400 with 1 Axes>"
      ]
     },
     "metadata": {},
     "output_type": "display_data"
    },
    {
     "data": {
      "text/plain": [
       "{'accuracy': 0.7366926898509581,\n",
       " 'precision': 0.5016025641025641,\n",
       " 'recall': 0.839142091152815,\n",
       " 'specificity': np.float64(0.6998069498069498),\n",
       " 'f1': 0.6278836509528586,\n",
       " 'auc': 0.8405045700622108,\n",
       " 'r2': -0.3527461778132017,\n",
       " 'confusion_matrix': array([[725, 311],\n",
       "        [ 60, 313]])}"
      ]
     },
     "execution_count": 33,
     "metadata": {},
     "output_type": "execute_result"
    }
   ],
   "source": [
    "evaluate_sklearn_model(model, X_test, y_test)"
   ]
  },
  {
   "cell_type": "markdown",
   "id": "b1e59e14",
   "metadata": {},
   "source": [
    "### SVM"
   ]
  },
  {
   "cell_type": "code",
   "execution_count": 35,
   "id": "e28b5615",
   "metadata": {},
   "outputs": [
    {
     "name": "stderr",
     "output_type": "stream",
     "text": [
      "d:\\KMITL\\year_4\\Intro_to_DL_and_ML\\Project\\Telco-Churn-Prediction-Model-Intro-to-ML-and-DL-Project-\\Utils\\dataset_preparation.py:59: FutureWarning: Setting an item of incompatible dtype is deprecated and will raise in a future error of pandas. Value '[-0.4377492  -0.4377492  -0.4377492  ... -0.4377492   2.28441306\n",
      " -0.4377492 ]' has dtype incompatible with int64, please explicitly cast to a compatible dtype first.\n",
      "  X_train.loc[:, numerical_feature_list] = X_train_num\n",
      "d:\\KMITL\\year_4\\Intro_to_DL_and_ML\\Project\\Telco-Churn-Prediction-Model-Intro-to-ML-and-DL-Project-\\Utils\\dataset_preparation.py:59: FutureWarning: Setting an item of incompatible dtype is deprecated and will raise in a future error of pandas. Value '[-0.46568336  0.88553679 -1.28460467 ... -0.83419795 -0.83419795\n",
      " -0.26095304]' has dtype incompatible with int64, please explicitly cast to a compatible dtype first.\n",
      "  X_train.loc[:, numerical_feature_list] = X_train_num\n",
      "d:\\KMITL\\year_4\\Intro_to_DL_and_ML\\Project\\Telco-Churn-Prediction-Model-Intro-to-ML-and-DL-Project-\\Utils\\dataset_preparation.py:60: FutureWarning: Setting an item of incompatible dtype is deprecated and will raise in a future error of pandas. Value '[-0.4377492 -0.4377492 -0.4377492 ... -0.4377492 -0.4377492 -0.4377492]' has dtype incompatible with int64, please explicitly cast to a compatible dtype first.\n",
      "  X_test.loc[:, numerical_feature_list] = X_test_num\n",
      "d:\\KMITL\\year_4\\Intro_to_DL_and_ML\\Project\\Telco-Churn-Prediction-Model-Intro-to-ML-and-DL-Project-\\Utils\\dataset_preparation.py:60: FutureWarning: Setting an item of incompatible dtype is deprecated and will raise in a future error of pandas. Value '[-1.28460467  0.35323794  0.80364466 ... -0.62946762  1.49972776\n",
      " -1.28460467]' has dtype incompatible with int64, please explicitly cast to a compatible dtype first.\n",
      "  X_test.loc[:, numerical_feature_list] = X_test_num\n"
     ]
    }
   ],
   "source": [
    "X_train, y_train, X_test, y_test = model_input_preparation(\n",
    "    df,\n",
    "    categorical_feature_list,\n",
    "    numerical_feature_list,\n",
    "    one_hot_feature,\n",
    "    normal_selected_feature,\n",
    "    one_hot = True,\n",
    "    scaler = True,\n",
    "    test_size = 0.2,\n",
    "    seed = 42,\n",
    "    selected_feature = False,\n",
    "    IS_SMOTE = False\n",
    ")"
   ]
  },
  {
   "cell_type": "markdown",
   "id": "60fcd138",
   "metadata": {},
   "source": [
    "##### SVM lib"
   ]
  },
  {
   "cell_type": "code",
   "execution_count": null,
   "id": "2784ce8e",
   "metadata": {},
   "outputs": [
    {
     "name": "stdout",
     "output_type": "stream",
     "text": [
      "Logistic regression: training set acc: 0.8166489172878949, test set 0.8097941802696949\n"
     ]
    }
   ],
   "source": [
    "model = svm.SVC().fit(X_train, y_train)\n",
    "print(f\"Logistic regression: training set acc: {model.score(X_train, y_train)}, test set {model.score(X_test, y_test)}\")"
   ]
  },
  {
   "cell_type": "markdown",
   "id": "67d84539",
   "metadata": {},
   "source": [
    "##### SVM from scratch"
   ]
  },
  {
   "cell_type": "code",
   "execution_count": 37,
   "id": "1aec3bbf",
   "metadata": {},
   "outputs": [],
   "source": [
    "class SVM_Linear_Scratch:\n",
    "    def __init__(self, C=1, batch_size=100, learning_rate=0.001, iterations=1000):\n",
    "        self.C = C\n",
    "        self.batch_size = batch_size\n",
    "        self.iterations = iterations\n",
    "        self.learning_rate = learning_rate\n",
    "        self.w = None\n",
    "        self.b = None\n",
    "\n",
    "    def decision_function(self, X):\n",
    "        return np.dot(X, self.w) + self.b\n",
    "\n",
    "    def hingeloss(self, w, b, x, y):\n",
    "        reg = 0.5 * np.dot(w, w)\n",
    "        loss = 0\n",
    "        for i in range(x.shape[0]):\n",
    "            opt_term = y[i] * (np.dot(w, x[i]) + b)\n",
    "            loss += max(0, 1 - opt_term)\n",
    "        return reg + self.C * loss\n",
    "\n",
    "    def fit(self, X, Y):\n",
    "        # ensure numpy\n",
    "        X = np.array(X)\n",
    "        Y = np.array(Y)\n",
    "\n",
    "        n_samples, n_features = X.shape\n",
    "        self.w = np.zeros(n_features)\n",
    "        self.b = 0\n",
    "        losses = []\n",
    "\n",
    "        # convert labels to -1, 1\n",
    "        Y = np.where(Y <= 0, -1, 1)\n",
    "\n",
    "        for i in range(self.iterations):\n",
    "            l = self.hingeloss(self.w, self.b, X, Y)\n",
    "            losses.append(l)\n",
    "\n",
    "            for batch_start in range(0, n_samples, self.batch_size):\n",
    "                gradw = np.zeros(n_features)\n",
    "                gradb = 0\n",
    "                for idx in range(batch_start, min(batch_start + self.batch_size, n_samples)):\n",
    "                    if Y[idx] * self.decision_function(X[idx]) >= 1:\n",
    "                        continue\n",
    "                    else:\n",
    "                        gradw += self.C * Y[idx] * X[idx]\n",
    "                        gradb += self.C * Y[idx]\n",
    "\n",
    "                # update\n",
    "                self.w += self.learning_rate * gradw\n",
    "                self.b += self.learning_rate * gradb\n",
    "\n",
    "        return self\n",
    "\n",
    "    def predict(self, X):\n",
    "        X = np.array(X)  # ensure numpy\n",
    "        prediction = self.decision_function(X)\n",
    "        label_signs = np.sign(prediction)\n",
    "        return np.where(label_signs <= -1, 0, 1)\n"
   ]
  },
  {
   "cell_type": "code",
   "execution_count": 38,
   "id": "10e4feda",
   "metadata": {},
   "outputs": [
    {
     "name": "stdout",
     "output_type": "stream",
     "text": [
      "Accuracy: 0.8190205819730305\n"
     ]
    }
   ],
   "source": [
    "svm_ls1 = SVM_Linear_Scratch(C=1)\n",
    "svm_ls1.fit(X_train, y_train)\n",
    "pred_ls1 = svm_ls1.predict(X_test)\n",
    "print('Accuracy:', accuracy_score(y_test, pred_ls1))\n"
   ]
  },
  {
   "cell_type": "code",
   "execution_count": 40,
   "id": "3c5f5a6f",
   "metadata": {},
   "outputs": [
    {
     "name": "stdout",
     "output_type": "stream",
     "text": [
      "\n",
      "Evaluation Results:\n",
      "Accuracy: 0.8190\n",
      "Precision: 0.6941\n",
      "Sensitivity (Recall): 0.5657\n",
      "Specificity (TNR): 0.9102\n",
      "F1-score: 0.6233\n",
      "ROC AUC: 0.8527\n",
      "R² score: 0.0702\n",
      "              precision    recall  f1-score   support\n",
      "\n",
      "           0       0.85      0.91      0.88      1036\n",
      "           1       0.69      0.57      0.62       373\n",
      "\n",
      "    accuracy                           0.82      1409\n",
      "   macro avg       0.77      0.74      0.75      1409\n",
      "weighted avg       0.81      0.82      0.81      1409\n",
      "\n"
     ]
    },
    {
     "data": {
      "image/png": "[encoded data removed]",
      "text/plain": [
       "<Figure size 500x400 with 2 Axes>"
      ]
     },
     "metadata": {},
     "output_type": "display_data"
    },
    {
     "data": {
      "image/png": "[encoded data removed]",
      "text/plain": [
       "<Figure size 500x400 with 1 Axes>"
      ]
     },
     "metadata": {},
     "output_type": "display_data"
    },
    {
     "data": {
      "text/plain": [
       "{'accuracy': 0.8190205819730305,\n",
       " 'precision': 0.694078947368421,\n",
       " 'recall': 0.5656836461126006,\n",
       " 'specificity': np.float64(0.9102316602316602),\n",
       " 'f1': 0.6233382570162481,\n",
       " 'auc': 0.8527060668481581,\n",
       " 'r2': 0.07021489126046787,\n",
       " 'confusion_matrix': array([[943,  93],\n",
       "        [162, 211]])}"
      ]
     },
     "execution_count": 40,
     "metadata": {},
     "output_type": "execute_result"
    }
   ],
   "source": [
    "evaluate_sklearn_model(svm_ls1, X_test, y_test)"
   ]
  },
  {
   "cell_type": "markdown",
   "id": "9d985aae",
   "metadata": {},
   "source": [
    "## Tree Base"
   ]
  },
  {
   "cell_type": "markdown",
   "id": "20da599a",
   "metadata": {},
   "source": [
    "### Decision Tree"
   ]
  },
  {
   "cell_type": "code",
   "execution_count": 7,
   "id": "eff210b3",
   "metadata": {},
   "outputs": [],
   "source": [
    "X_train, y_train, X_test, y_test = model_input_preparation(\n",
    "    df,\n",
    "    categorical_feature_list,\n",
    "    numerical_feature_list,\n",
    "    one_hot_feature,\n",
    "    normal_selected_feature,\n",
    "    one_hot = True,\n",
    "    scaler = False,\n",
    "    test_size = 0.2,\n",
    "    seed = 42,\n",
    "    selected_feature = False,\n",
    "    IS_SMOTE = True\n",
    ")"
   ]
  },
  {
   "cell_type": "code",
   "execution_count": null,
   "id": "a4b21406",
   "metadata": {},
   "outputs": [
    {
     "data": {
      "text/plain": [
       "label\n",
       "0    4138\n",
       "1    4138\n",
       "Name: count, dtype: int64"
      ]
     },
     "execution_count": 71,
     "metadata": {},
     "output_type": "execute_result"
    }
   ],
   "source": [
    "y_train.value_counts()"
   ]
  },
  {
   "cell_type": "code",
   "execution_count": null,
   "id": "7c48890b",
   "metadata": {},
   "outputs": [],
   "source": [
    "def decision_tree_model_automating_Hyperparamrter(trial, x_train, y_train, x_test, y_test):\n",
    "\n",
    "    max_depth = trial.suggest_int(\"max_depth\", 1 ,40)\n",
    "    min_samples_split = trial.suggest_int(\"min_samples_split\", 2, 20)\n",
    "\n",
    "    model = tree.DecisionTreeClassifier(\n",
    "        max_depth=max_depth,\n",
    "        min_samples_split=min_samples_split\n",
    "    )\n",
    "\n",
    "    model.fit(x_train, y_train)\n",
    "    preds = model.predict(x_test)\n",
    "    accuracy = accuracy_score(y_test, preds)\n",
    "    return accuracy\n"
   ]
  },
  {
   "cell_type": "code",
   "execution_count": null,
   "id": "a846ba24",
   "metadata": {},
   "outputs": [
    {
     "name": "stdout",
     "output_type": "stream",
     "text": [
      "Logistic regression: training set acc: 0.9990333494441759, test set 0.71611071682044\n"
     ]
    }
   ],
   "source": [
    "model = tree.DecisionTreeClassifier().fit(X_train, y_train)\n",
    "print(f\"Logistic regression: training set acc: {model.score(X_train, y_train)}, test set {model.score(X_test, y_test)}\")"
   ]
  },
  {
   "cell_type": "code",
   "execution_count": null,
   "id": "2dad144e",
   "metadata": {},
   "outputs": [
    {
     "name": "stderr",
     "output_type": "stream",
     "text": [
      "[I 2025-09-27 00:07:32,136] A new study created in memory with name: no-name-5e06ccb4-5a0d-4edf-adf7-d0fe0ee4cb45\n",
      "[I 2025-09-27 00:07:32,209] Trial 0 finished with value: 0.7267565649396736 and parameters: {'max_depth': 27, 'min_samples_split': 6}. Best is trial 0 with value: 0.7267565649396736.\n",
      "[I 2025-09-27 00:07:32,278] Trial 1 finished with value: 0.7317246273953159 and parameters: {'max_depth': 35, 'min_samples_split': 7}. Best is trial 1 with value: 0.7317246273953159.\n",
      "[I 2025-09-27 00:07:32,333] Trial 2 finished with value: 0.7750177430801988 and parameters: {'max_depth': 9, 'min_samples_split': 12}. Best is trial 2 with value: 0.7750177430801988.\n",
      "[I 2025-09-27 00:07:32,400] Trial 3 finished with value: 0.7395315826827538 and parameters: {'max_depth': 29, 'min_samples_split': 15}. Best is trial 2 with value: 0.7750177430801988.\n",
      "[I 2025-09-27 00:07:32,467] Trial 4 finished with value: 0.7317246273953159 and parameters: {'max_depth': 29, 'min_samples_split': 9}. Best is trial 2 with value: 0.7750177430801988.\n",
      "[I 2025-09-27 00:07:32,535] Trial 5 finished with value: 0.7402413058907026 and parameters: {'max_depth': 19, 'min_samples_split': 9}. Best is trial 2 with value: 0.7750177430801988.\n",
      "[I 2025-09-27 00:07:32,603] Trial 6 finished with value: 0.7189496096522356 and parameters: {'max_depth': 19, 'min_samples_split': 5}. Best is trial 2 with value: 0.7750177430801988.\n",
      "[I 2025-09-27 00:07:32,664] Trial 7 finished with value: 0.751596877217885 and parameters: {'max_depth': 13, 'min_samples_split': 15}. Best is trial 2 with value: 0.7750177430801988.\n",
      "[I 2025-09-27 00:07:32,719] Trial 8 finished with value: 0.7672107877927609 and parameters: {'max_depth': 10, 'min_samples_split': 10}. Best is trial 2 with value: 0.7750177430801988.\n",
      "[I 2025-09-27 00:07:32,740] Trial 9 finished with value: 0.7402413058907026 and parameters: {'max_depth': 2, 'min_samples_split': 16}. Best is trial 2 with value: 0.7750177430801988.\n",
      "[I 2025-09-27 00:07:32,768] Trial 10 finished with value: 0.7402413058907026 and parameters: {'max_depth': 2, 'min_samples_split': 20}. Best is trial 2 with value: 0.7750177430801988.\n",
      "[I 2025-09-27 00:07:32,833] Trial 11 finished with value: 0.7679205110007097 and parameters: {'max_depth': 10, 'min_samples_split': 13}. Best is trial 2 with value: 0.7750177430801988.\n",
      "[I 2025-09-27 00:07:32,891] Trial 12 finished with value: 0.7750177430801988 and parameters: {'max_depth': 9, 'min_samples_split': 14}. Best is trial 2 with value: 0.7750177430801988.\n",
      "[I 2025-09-27 00:07:32,944] Trial 13 finished with value: 0.7686302342086586 and parameters: {'max_depth': 7, 'min_samples_split': 13}. Best is trial 2 with value: 0.7750177430801988.\n",
      "[I 2025-09-27 00:07:33,010] Trial 14 finished with value: 0.7537260468417317 and parameters: {'max_depth': 15, 'min_samples_split': 19}. Best is trial 2 with value: 0.7750177430801988.\n",
      "[I 2025-09-27 00:07:33,055] Trial 15 finished with value: 0.7735982966643009 and parameters: {'max_depth': 6, 'min_samples_split': 2}. Best is trial 2 with value: 0.7750177430801988.\n",
      "[I 2025-09-27 00:07:33,123] Trial 16 finished with value: 0.7395315826827538 and parameters: {'max_depth': 23, 'min_samples_split': 17}. Best is trial 2 with value: 0.7750177430801988.\n",
      "[I 2025-09-27 00:07:33,187] Trial 17 finished with value: 0.7494677075940384 and parameters: {'max_depth': 15, 'min_samples_split': 12}. Best is trial 2 with value: 0.7750177430801988.\n",
      "[I 2025-09-27 00:07:33,253] Trial 18 finished with value: 0.7381121362668559 and parameters: {'max_depth': 40, 'min_samples_split': 18}. Best is trial 2 with value: 0.7750177430801988.\n",
      "[I 2025-09-27 00:07:33,301] Trial 19 finished with value: 0.7735982966643009 and parameters: {'max_depth': 6, 'min_samples_split': 12}. Best is trial 2 with value: 0.7750177430801988.\n",
      "[I 2025-09-27 00:07:33,321] Trial 20 finished with value: 0.6557842441447835 and parameters: {'max_depth': 1, 'min_samples_split': 14}. Best is trial 2 with value: 0.7750177430801988.\n",
      "[I 2025-09-27 00:07:33,370] Trial 21 finished with value: 0.7735982966643009 and parameters: {'max_depth': 6, 'min_samples_split': 2}. Best is trial 2 with value: 0.7750177430801988.\n",
      "[I 2025-09-27 00:07:33,432] Trial 22 finished with value: 0.7672107877927609 and parameters: {'max_depth': 10, 'min_samples_split': 3}. Best is trial 2 with value: 0.7750177430801988.\n",
      "[I 2025-09-27 00:07:33,476] Trial 23 finished with value: 0.7771469127040455 and parameters: {'max_depth': 5, 'min_samples_split': 11}. Best is trial 23 with value: 0.7771469127040455.\n",
      "[I 2025-09-27 00:07:33,545] Trial 24 finished with value: 0.7409510290986515 and parameters: {'max_depth': 14, 'min_samples_split': 11}. Best is trial 23 with value: 0.7771469127040455.\n",
      "[I 2025-09-27 00:07:33,602] Trial 25 finished with value: 0.7735982966643009 and parameters: {'max_depth': 9, 'min_samples_split': 8}. Best is trial 23 with value: 0.7771469127040455.\n",
      "[I 2025-09-27 00:07:33,633] Trial 26 finished with value: 0.7402413058907026 and parameters: {'max_depth': 3, 'min_samples_split': 11}. Best is trial 23 with value: 0.7771469127040455.\n",
      "[I 2025-09-27 00:07:33,700] Trial 27 finished with value: 0.7437899219304471 and parameters: {'max_depth': 17, 'min_samples_split': 14}. Best is trial 23 with value: 0.7771469127040455.\n",
      "[I 2025-09-27 00:07:33,762] Trial 28 finished with value: 0.759403832505323 and parameters: {'max_depth': 12, 'min_samples_split': 16}. Best is trial 23 with value: 0.7771469127040455.\n",
      "[I 2025-09-27 00:07:33,804] Trial 29 finished with value: 0.7324343506032647 and parameters: {'max_depth': 4, 'min_samples_split': 5}. Best is trial 23 with value: 0.7771469127040455.\n",
      "[I 2025-09-27 00:07:33,874] Trial 30 finished with value: 0.7331440738112136 and parameters: {'max_depth': 22, 'min_samples_split': 10}. Best is trial 23 with value: 0.7771469127040455.\n",
      "[I 2025-09-27 00:07:33,924] Trial 31 finished with value: 0.7686302342086586 and parameters: {'max_depth': 7, 'min_samples_split': 5}. Best is trial 23 with value: 0.7771469127040455.\n",
      "[I 2025-09-27 00:07:33,967] Trial 32 finished with value: 0.7771469127040455 and parameters: {'max_depth': 5, 'min_samples_split': 7}. Best is trial 23 with value: 0.7771469127040455.\n",
      "[I 2025-09-27 00:07:34,003] Trial 33 finished with value: 0.7324343506032647 and parameters: {'max_depth': 4, 'min_samples_split': 7}. Best is trial 23 with value: 0.7771469127040455.\n",
      "[I 2025-09-27 00:07:34,054] Trial 34 finished with value: 0.7771469127040455 and parameters: {'max_depth': 8, 'min_samples_split': 7}. Best is trial 23 with value: 0.7771469127040455.\n",
      "[I 2025-09-27 00:07:34,119] Trial 35 finished with value: 0.7608232789212207 and parameters: {'max_depth': 12, 'min_samples_split': 7}. Best is trial 23 with value: 0.7771469127040455.\n",
      "[I 2025-09-27 00:07:34,188] Trial 36 finished with value: 0.7338537970191625 and parameters: {'max_depth': 25, 'min_samples_split': 9}. Best is trial 23 with value: 0.7771469127040455.\n",
      "[I 2025-09-27 00:07:34,265] Trial 37 finished with value: 0.7274662881476224 and parameters: {'max_depth': 32, 'min_samples_split': 6}. Best is trial 23 with value: 0.7771469127040455.\n",
      "[I 2025-09-27 00:07:34,342] Trial 38 finished with value: 0.7217885024840313 and parameters: {'max_depth': 17, 'min_samples_split': 4}. Best is trial 23 with value: 0.7771469127040455.\n",
      "[I 2025-09-27 00:07:34,382] Trial 39 finished with value: 0.7771469127040455 and parameters: {'max_depth': 5, 'min_samples_split': 8}. Best is trial 23 with value: 0.7771469127040455.\n",
      "[I 2025-09-27 00:07:34,419] Trial 40 finished with value: 0.7324343506032647 and parameters: {'max_depth': 4, 'min_samples_split': 8}. Best is trial 23 with value: 0.7771469127040455.\n",
      "[I 2025-09-27 00:07:34,473] Trial 41 finished with value: 0.7771469127040455 and parameters: {'max_depth': 8, 'min_samples_split': 8}. Best is trial 23 with value: 0.7771469127040455.\n",
      "[I 2025-09-27 00:07:34,496] Trial 42 finished with value: 0.6557842441447835 and parameters: {'max_depth': 1, 'min_samples_split': 8}. Best is trial 23 with value: 0.7771469127040455.\n",
      "[I 2025-09-27 00:07:34,567] Trial 43 finished with value: 0.7771469127040455 and parameters: {'max_depth': 8, 'min_samples_split': 6}. Best is trial 23 with value: 0.7771469127040455.\n",
      "[I 2025-09-27 00:07:34,608] Trial 44 finished with value: 0.7771469127040455 and parameters: {'max_depth': 5, 'min_samples_split': 10}. Best is trial 23 with value: 0.7771469127040455.\n",
      "[I 2025-09-27 00:07:34,672] Trial 45 finished with value: 0.759403832505323 and parameters: {'max_depth': 12, 'min_samples_split': 7}. Best is trial 23 with value: 0.7771469127040455.\n",
      "[I 2025-09-27 00:07:34,723] Trial 46 finished with value: 0.7771469127040455 and parameters: {'max_depth': 8, 'min_samples_split': 8}. Best is trial 23 with value: 0.7771469127040455.\n",
      "[I 2025-09-27 00:07:34,782] Trial 47 finished with value: 0.7636621717530163 and parameters: {'max_depth': 11, 'min_samples_split': 9}. Best is trial 23 with value: 0.7771469127040455.\n",
      "[I 2025-09-27 00:07:34,807] Trial 48 finished with value: 0.7402413058907026 and parameters: {'max_depth': 2, 'min_samples_split': 6}. Best is trial 23 with value: 0.7771469127040455.\n",
      "[I 2025-09-27 00:07:34,847] Trial 49 finished with value: 0.7771469127040455 and parameters: {'max_depth': 5, 'min_samples_split': 4}. Best is trial 23 with value: 0.7771469127040455.\n",
      "[I 2025-09-27 00:07:34,898] Trial 50 finished with value: 0.7771469127040455 and parameters: {'max_depth': 8, 'min_samples_split': 10}. Best is trial 23 with value: 0.7771469127040455.\n",
      "[I 2025-09-27 00:07:34,948] Trial 51 finished with value: 0.7771469127040455 and parameters: {'max_depth': 8, 'min_samples_split': 6}. Best is trial 23 with value: 0.7771469127040455.\n",
      "[I 2025-09-27 00:07:34,977] Trial 52 finished with value: 0.7402413058907026 and parameters: {'max_depth': 3, 'min_samples_split': 6}. Best is trial 23 with value: 0.7771469127040455.\n",
      "[I 2025-09-27 00:07:35,027] Trial 53 finished with value: 0.7686302342086586 and parameters: {'max_depth': 7, 'min_samples_split': 7}. Best is trial 23 with value: 0.7771469127040455.\n",
      "[I 2025-09-27 00:07:35,086] Trial 54 finished with value: 0.7650816181689141 and parameters: {'max_depth': 10, 'min_samples_split': 9}. Best is trial 23 with value: 0.7771469127040455.\n",
      "[I 2025-09-27 00:07:35,130] Trial 55 finished with value: 0.7735982966643009 and parameters: {'max_depth': 6, 'min_samples_split': 4}. Best is trial 23 with value: 0.7771469127040455.\n",
      "[I 2025-09-27 00:07:35,162] Trial 56 finished with value: 0.7402413058907026 and parameters: {'max_depth': 3, 'min_samples_split': 5}. Best is trial 23 with value: 0.7771469127040455.\n",
      "[I 2025-09-27 00:07:35,228] Trial 57 finished with value: 0.7416607523066004 and parameters: {'max_depth': 14, 'min_samples_split': 9}. Best is trial 23 with value: 0.7771469127040455.\n",
      "[I 2025-09-27 00:07:35,283] Trial 58 finished with value: 0.7743080198722498 and parameters: {'max_depth': 9, 'min_samples_split': 8}. Best is trial 23 with value: 0.7771469127040455.\n",
      "[I 2025-09-27 00:07:35,300] Trial 59 finished with value: 0.6557842441447835 and parameters: {'max_depth': 1, 'min_samples_split': 11}. Best is trial 23 with value: 0.7771469127040455.\n",
      "[I 2025-09-27 00:07:35,342] Trial 60 finished with value: 0.7771469127040455 and parameters: {'max_depth': 5, 'min_samples_split': 5}. Best is trial 23 with value: 0.7771469127040455.\n",
      "[I 2025-09-27 00:07:35,382] Trial 61 finished with value: 0.7771469127040455 and parameters: {'max_depth': 5, 'min_samples_split': 10}. Best is trial 23 with value: 0.7771469127040455.\n",
      "[I 2025-09-27 00:07:35,430] Trial 62 finished with value: 0.7686302342086586 and parameters: {'max_depth': 7, 'min_samples_split': 7}. Best is trial 23 with value: 0.7771469127040455.\n",
      "[I 2025-09-27 00:07:35,484] Trial 63 finished with value: 0.7750177430801988 and parameters: {'max_depth': 9, 'min_samples_split': 10}. Best is trial 23 with value: 0.7771469127040455.\n",
      "[I 2025-09-27 00:07:35,526] Trial 64 finished with value: 0.7771469127040455 and parameters: {'max_depth': 5, 'min_samples_split': 12}. Best is trial 23 with value: 0.7771469127040455.\n",
      "[I 2025-09-27 00:07:35,593] Trial 65 finished with value: 0.7629524485450674 and parameters: {'max_depth': 11, 'min_samples_split': 8}. Best is trial 23 with value: 0.7771469127040455.\n",
      "[I 2025-09-27 00:07:35,642] Trial 66 finished with value: 0.7402413058907026 and parameters: {'max_depth': 3, 'min_samples_split': 13}. Best is trial 23 with value: 0.7771469127040455.\n",
      "[I 2025-09-27 00:07:35,741] Trial 67 finished with value: 0.7345635202271115 and parameters: {'max_depth': 37, 'min_samples_split': 9}. Best is trial 23 with value: 0.7771469127040455.\n",
      "[I 2025-09-27 00:07:35,797] Trial 68 finished with value: 0.7771469127040455 and parameters: {'max_depth': 8, 'min_samples_split': 11}. Best is trial 23 with value: 0.7771469127040455.\n",
      "[I 2025-09-27 00:07:35,845] Trial 69 finished with value: 0.7735982966643009 and parameters: {'max_depth': 6, 'min_samples_split': 12}. Best is trial 23 with value: 0.7771469127040455.\n",
      "[I 2025-09-27 00:07:35,918] Trial 70 finished with value: 0.7281760113555713 and parameters: {'max_depth': 29, 'min_samples_split': 6}. Best is trial 23 with value: 0.7771469127040455.\n",
      "[I 2025-09-27 00:07:35,971] Trial 71 finished with value: 0.7771469127040455 and parameters: {'max_depth': 8, 'min_samples_split': 8}. Best is trial 23 with value: 0.7771469127040455.\n",
      "[I 2025-09-27 00:07:36,030] Trial 72 finished with value: 0.7622427253371186 and parameters: {'max_depth': 11, 'min_samples_split': 7}. Best is trial 23 with value: 0.7771469127040455.\n",
      "[I 2025-09-27 00:07:36,079] Trial 73 finished with value: 0.7686302342086586 and parameters: {'max_depth': 7, 'min_samples_split': 8}. Best is trial 23 with value: 0.7771469127040455.\n",
      "[I 2025-09-27 00:07:36,117] Trial 74 finished with value: 0.7324343506032647 and parameters: {'max_depth': 4, 'min_samples_split': 10}. Best is trial 23 with value: 0.7771469127040455.\n",
      "[I 2025-09-27 00:07:36,140] Trial 75 finished with value: 0.7402413058907026 and parameters: {'max_depth': 2, 'min_samples_split': 7}. Best is trial 23 with value: 0.7771469127040455.\n",
      "[I 2025-09-27 00:07:36,198] Trial 76 finished with value: 0.7665010645848119 and parameters: {'max_depth': 10, 'min_samples_split': 9}. Best is trial 23 with value: 0.7771469127040455.\n",
      "[I 2025-09-27 00:07:36,245] Trial 77 finished with value: 0.7735982966643009 and parameters: {'max_depth': 6, 'min_samples_split': 6}. Best is trial 23 with value: 0.7771469127040455.\n",
      "[I 2025-09-27 00:07:36,281] Trial 78 finished with value: 0.7324343506032647 and parameters: {'max_depth': 4, 'min_samples_split': 8}. Best is trial 23 with value: 0.7771469127040455.\n",
      "[I 2025-09-27 00:07:36,346] Trial 79 finished with value: 0.7423704755145494 and parameters: {'max_depth': 14, 'min_samples_split': 9}. Best is trial 23 with value: 0.7771469127040455.\n",
      "[I 2025-09-27 00:07:36,413] Trial 80 finished with value: 0.7352732434350603 and parameters: {'max_depth': 18, 'min_samples_split': 10}. Best is trial 23 with value: 0.7771469127040455.\n",
      "[I 2025-09-27 00:07:36,454] Trial 81 finished with value: 0.7771469127040455 and parameters: {'max_depth': 5, 'min_samples_split': 4}. Best is trial 23 with value: 0.7771469127040455.\n",
      "[I 2025-09-27 00:07:36,505] Trial 82 finished with value: 0.7686302342086586 and parameters: {'max_depth': 7, 'min_samples_split': 3}. Best is trial 23 with value: 0.7771469127040455.\n",
      "[I 2025-09-27 00:07:36,561] Trial 83 finished with value: 0.7757274662881476 and parameters: {'max_depth': 9, 'min_samples_split': 3}. Best is trial 23 with value: 0.7771469127040455.\n",
      "[I 2025-09-27 00:07:36,602] Trial 84 finished with value: 0.7771469127040455 and parameters: {'max_depth': 5, 'min_samples_split': 5}. Best is trial 23 with value: 0.7771469127040455.\n",
      "[I 2025-09-27 00:07:36,626] Trial 85 finished with value: 0.7402413058907026 and parameters: {'max_depth': 2, 'min_samples_split': 11}. Best is trial 23 with value: 0.7771469127040455.\n",
      "[I 2025-09-27 00:07:36,664] Trial 86 finished with value: 0.7324343506032647 and parameters: {'max_depth': 4, 'min_samples_split': 7}. Best is trial 23 with value: 0.7771469127040455.\n",
      "[I 2025-09-27 00:07:36,715] Trial 87 finished with value: 0.7771469127040455 and parameters: {'max_depth': 8, 'min_samples_split': 6}. Best is trial 23 with value: 0.7771469127040455.\n",
      "[I 2025-09-27 00:07:36,760] Trial 88 finished with value: 0.7735982966643009 and parameters: {'max_depth': 6, 'min_samples_split': 4}. Best is trial 23 with value: 0.7771469127040455.\n",
      "[I 2025-09-27 00:07:36,779] Trial 89 finished with value: 0.6557842441447835 and parameters: {'max_depth': 1, 'min_samples_split': 9}. Best is trial 23 with value: 0.7771469127040455.\n",
      "[I 2025-09-27 00:07:36,810] Trial 90 finished with value: 0.7402413058907026 and parameters: {'max_depth': 3, 'min_samples_split': 2}. Best is trial 23 with value: 0.7771469127040455.\n",
      "[I 2025-09-27 00:07:36,863] Trial 91 finished with value: 0.7771469127040455 and parameters: {'max_depth': 8, 'min_samples_split': 10}. Best is trial 23 with value: 0.7771469127040455.\n",
      "[I 2025-09-27 00:07:36,917] Trial 92 finished with value: 0.7735982966643009 and parameters: {'max_depth': 9, 'min_samples_split': 8}. Best is trial 23 with value: 0.7771469127040455.\n",
      "[I 2025-09-27 00:07:36,974] Trial 93 finished with value: 0.7679205110007097 and parameters: {'max_depth': 10, 'min_samples_split': 13}. Best is trial 23 with value: 0.7771469127040455.\n",
      "[I 2025-09-27 00:07:37,039] Trial 94 finished with value: 0.7494677075940384 and parameters: {'max_depth': 13, 'min_samples_split': 10}. Best is trial 23 with value: 0.7771469127040455.\n",
      "[I 2025-09-27 00:07:37,081] Trial 95 finished with value: 0.7771469127040455 and parameters: {'max_depth': 5, 'min_samples_split': 11}. Best is trial 23 with value: 0.7771469127040455.\n",
      "[I 2025-09-27 00:07:37,129] Trial 96 finished with value: 0.7686302342086586 and parameters: {'max_depth': 7, 'min_samples_split': 7}. Best is trial 23 with value: 0.7771469127040455.\n",
      "[I 2025-09-27 00:07:37,181] Trial 97 finished with value: 0.7771469127040455 and parameters: {'max_depth': 8, 'min_samples_split': 6}. Best is trial 23 with value: 0.7771469127040455.\n",
      "[I 2025-09-27 00:07:37,226] Trial 98 finished with value: 0.7735982966643009 and parameters: {'max_depth': 6, 'min_samples_split': 12}. Best is trial 23 with value: 0.7771469127040455.\n",
      "[I 2025-09-27 00:07:37,294] Trial 99 finished with value: 0.7288857345635202 and parameters: {'max_depth': 20, 'min_samples_split': 8}. Best is trial 23 with value: 0.7771469127040455.\n",
      "[I 2025-09-27 00:07:37,326] Trial 100 finished with value: 0.7402413058907026 and parameters: {'max_depth': 3, 'min_samples_split': 7}. Best is trial 23 with value: 0.7771469127040455.\n",
      "[I 2025-09-27 00:07:37,379] Trial 101 finished with value: 0.7771469127040455 and parameters: {'max_depth': 8, 'min_samples_split': 6}. Best is trial 23 with value: 0.7771469127040455.\n",
      "[I 2025-09-27 00:07:37,441] Trial 102 finished with value: 0.7636621717530163 and parameters: {'max_depth': 11, 'min_samples_split': 5}. Best is trial 23 with value: 0.7771469127040455.\n",
      "[I 2025-09-27 00:07:37,487] Trial 103 finished with value: 0.7735982966643009 and parameters: {'max_depth': 6, 'min_samples_split': 9}. Best is trial 23 with value: 0.7771469127040455.\n",
      "[I 2025-09-27 00:07:37,536] Trial 104 finished with value: 0.7686302342086586 and parameters: {'max_depth': 7, 'min_samples_split': 5}. Best is trial 23 with value: 0.7771469127040455.\n",
      "[I 2025-09-27 00:07:37,595] Trial 105 finished with value: 0.7672107877927609 and parameters: {'max_depth': 10, 'min_samples_split': 8}. Best is trial 23 with value: 0.7771469127040455.\n",
      "[I 2025-09-27 00:07:37,645] Trial 106 finished with value: 0.7743080198722498 and parameters: {'max_depth': 9, 'min_samples_split': 20}. Best is trial 23 with value: 0.7771469127040455.\n",
      "[I 2025-09-27 00:07:37,687] Trial 107 finished with value: 0.7324343506032647 and parameters: {'max_depth': 4, 'min_samples_split': 7}. Best is trial 23 with value: 0.7771469127040455.\n",
      "[I 2025-09-27 00:07:37,729] Trial 108 finished with value: 0.7771469127040455 and parameters: {'max_depth': 5, 'min_samples_split': 7}. Best is trial 23 with value: 0.7771469127040455.\n",
      "[I 2025-09-27 00:07:37,790] Trial 109 finished with value: 0.7551454932576295 and parameters: {'max_depth': 12, 'min_samples_split': 5}. Best is trial 23 with value: 0.7771469127040455.\n",
      "[I 2025-09-27 00:07:37,861] Trial 110 finished with value: 0.730305180979418 and parameters: {'max_depth': 27, 'min_samples_split': 6}. Best is trial 23 with value: 0.7771469127040455.\n",
      "[I 2025-09-27 00:07:37,910] Trial 111 finished with value: 0.7686302342086586 and parameters: {'max_depth': 7, 'min_samples_split': 5}. Best is trial 23 with value: 0.7771469127040455.\n",
      "[I 2025-09-27 00:07:37,952] Trial 112 finished with value: 0.7771469127040455 and parameters: {'max_depth': 5, 'min_samples_split': 6}. Best is trial 23 with value: 0.7771469127040455.\n",
      "[I 2025-09-27 00:07:38,002] Trial 113 finished with value: 0.7771469127040455 and parameters: {'max_depth': 8, 'min_samples_split': 4}. Best is trial 23 with value: 0.7771469127040455.\n",
      "[I 2025-09-27 00:07:38,026] Trial 114 finished with value: 0.7402413058907026 and parameters: {'max_depth': 2, 'min_samples_split': 6}. Best is trial 23 with value: 0.7771469127040455.\n",
      "[I 2025-09-27 00:07:38,066] Trial 115 finished with value: 0.7324343506032647 and parameters: {'max_depth': 4, 'min_samples_split': 8}. Best is trial 23 with value: 0.7771469127040455.\n",
      "[I 2025-09-27 00:07:38,111] Trial 116 finished with value: 0.7735982966643009 and parameters: {'max_depth': 6, 'min_samples_split': 5}. Best is trial 23 with value: 0.7771469127040455.\n",
      "[I 2025-09-27 00:07:38,152] Trial 117 finished with value: 0.7771469127040455 and parameters: {'max_depth': 5, 'min_samples_split': 11}. Best is trial 23 with value: 0.7771469127040455.\n",
      "[I 2025-09-27 00:07:38,197] Trial 118 finished with value: 0.7735982966643009 and parameters: {'max_depth': 6, 'min_samples_split': 4}. Best is trial 23 with value: 0.7771469127040455.\n",
      "[I 2025-09-27 00:07:38,253] Trial 119 finished with value: 0.7750177430801988 and parameters: {'max_depth': 9, 'min_samples_split': 10}. Best is trial 23 with value: 0.7771469127040455.\n",
      "[I 2025-09-27 00:07:38,312] Trial 120 finished with value: 0.7686302342086586 and parameters: {'max_depth': 7, 'min_samples_split': 9}. Best is trial 23 with value: 0.7771469127040455.\n",
      "[I 2025-09-27 00:07:38,350] Trial 121 finished with value: 0.7324343506032647 and parameters: {'max_depth': 4, 'min_samples_split': 10}. Best is trial 23 with value: 0.7771469127040455.\n",
      "[I 2025-09-27 00:07:38,392] Trial 122 finished with value: 0.7771469127040455 and parameters: {'max_depth': 5, 'min_samples_split': 11}. Best is trial 23 with value: 0.7771469127040455.\n",
      "[I 2025-09-27 00:07:38,445] Trial 123 finished with value: 0.7771469127040455 and parameters: {'max_depth': 8, 'min_samples_split': 10}. Best is trial 23 with value: 0.7771469127040455.\n",
      "[I 2025-09-27 00:07:38,471] Trial 124 finished with value: 0.7402413058907026 and parameters: {'max_depth': 2, 'min_samples_split': 8}. Best is trial 23 with value: 0.7771469127040455.\n",
      "[I 2025-09-27 00:07:38,503] Trial 125 finished with value: 0.7402413058907026 and parameters: {'max_depth': 3, 'min_samples_split': 9}. Best is trial 23 with value: 0.7771469127040455.\n",
      "[I 2025-09-27 00:07:38,565] Trial 126 finished with value: 0.7672107877927609 and parameters: {'max_depth': 10, 'min_samples_split': 6}. Best is trial 23 with value: 0.7771469127040455.\n",
      "[I 2025-09-27 00:07:38,610] Trial 127 finished with value: 0.7771469127040455 and parameters: {'max_depth': 5, 'min_samples_split': 7}. Best is trial 23 with value: 0.7771469127040455.\n",
      "[I 2025-09-27 00:07:38,666] Trial 128 finished with value: 0.7686302342086586 and parameters: {'max_depth': 7, 'min_samples_split': 12}. Best is trial 23 with value: 0.7771469127040455.\n",
      "[I 2025-09-27 00:07:38,712] Trial 129 finished with value: 0.7735982966643009 and parameters: {'max_depth': 6, 'min_samples_split': 3}. Best is trial 23 with value: 0.7771469127040455.\n",
      "[I 2025-09-27 00:07:38,766] Trial 130 finished with value: 0.7771469127040455 and parameters: {'max_depth': 8, 'min_samples_split': 8}. Best is trial 23 with value: 0.7771469127040455.\n",
      "[I 2025-09-27 00:07:38,798] Trial 131 finished with value: 0.7402413058907026 and parameters: {'max_depth': 3, 'min_samples_split': 13}. Best is trial 23 with value: 0.7771469127040455.\n",
      "[I 2025-09-27 00:07:38,842] Trial 132 finished with value: 0.7771469127040455 and parameters: {'max_depth': 5, 'min_samples_split': 11}. Best is trial 23 with value: 0.7771469127040455.\n",
      "[I 2025-09-27 00:07:38,880] Trial 133 finished with value: 0.7324343506032647 and parameters: {'max_depth': 4, 'min_samples_split': 10}. Best is trial 23 with value: 0.7771469127040455.\n",
      "[I 2025-09-27 00:07:38,929] Trial 134 finished with value: 0.7686302342086586 and parameters: {'max_depth': 7, 'min_samples_split': 12}. Best is trial 23 with value: 0.7771469127040455.\n",
      "[I 2025-09-27 00:07:38,970] Trial 135 finished with value: 0.7771469127040455 and parameters: {'max_depth': 5, 'min_samples_split': 14}. Best is trial 23 with value: 0.7771469127040455.\n",
      "[I 2025-09-27 00:07:39,015] Trial 136 finished with value: 0.7735982966643009 and parameters: {'max_depth': 6, 'min_samples_split': 11}. Best is trial 23 with value: 0.7771469127040455.\n",
      "[I 2025-09-27 00:07:39,071] Trial 137 finished with value: 0.772888573456352 and parameters: {'max_depth': 9, 'min_samples_split': 7}. Best is trial 23 with value: 0.7771469127040455.\n",
      "[I 2025-09-27 00:07:39,104] Trial 138 finished with value: 0.7402413058907026 and parameters: {'max_depth': 3, 'min_samples_split': 10}. Best is trial 23 with value: 0.7771469127040455.\n",
      "[I 2025-09-27 00:07:39,121] Trial 139 finished with value: 0.6557842441447835 and parameters: {'max_depth': 1, 'min_samples_split': 12}. Best is trial 23 with value: 0.7771469127040455.\n",
      "[I 2025-09-27 00:07:39,182] Trial 140 finished with value: 0.7608232789212207 and parameters: {'max_depth': 11, 'min_samples_split': 6}. Best is trial 23 with value: 0.7771469127040455.\n",
      "[I 2025-09-27 00:07:39,235] Trial 141 finished with value: 0.7771469127040455 and parameters: {'max_depth': 8, 'min_samples_split': 11}. Best is trial 23 with value: 0.7771469127040455.\n",
      "[I 2025-09-27 00:07:39,285] Trial 142 finished with value: 0.7686302342086586 and parameters: {'max_depth': 7, 'min_samples_split': 12}. Best is trial 23 with value: 0.7771469127040455.\n",
      "[I 2025-09-27 00:07:39,331] Trial 143 finished with value: 0.7735982966643009 and parameters: {'max_depth': 6, 'min_samples_split': 11}. Best is trial 23 with value: 0.7771469127040455.\n",
      "[I 2025-09-27 00:07:39,389] Trial 144 finished with value: 0.7672107877927609 and parameters: {'max_depth': 10, 'min_samples_split': 8}. Best is trial 23 with value: 0.7771469127040455.\n",
      "[I 2025-09-27 00:07:39,427] Trial 145 finished with value: 0.7324343506032647 and parameters: {'max_depth': 4, 'min_samples_split': 13}. Best is trial 23 with value: 0.7771469127040455.\n",
      "[I 2025-09-27 00:07:39,478] Trial 146 finished with value: 0.7771469127040455 and parameters: {'max_depth': 8, 'min_samples_split': 9}. Best is trial 23 with value: 0.7771469127040455.\n",
      "[I 2025-09-27 00:07:39,546] Trial 147 finished with value: 0.7366926898509581 and parameters: {'max_depth': 24, 'min_samples_split': 12}. Best is trial 23 with value: 0.7771469127040455.\n",
      "[I 2025-09-27 00:07:39,591] Trial 148 finished with value: 0.7735982966643009 and parameters: {'max_depth': 6, 'min_samples_split': 5}. Best is trial 23 with value: 0.7771469127040455.\n",
      "[I 2025-09-27 00:07:39,649] Trial 149 finished with value: 0.772888573456352 and parameters: {'max_depth': 9, 'min_samples_split': 6}. Best is trial 23 with value: 0.7771469127040455.\n",
      "[I 2025-09-27 00:07:39,686] Trial 150 finished with value: 0.7324343506032647 and parameters: {'max_depth': 4, 'min_samples_split': 11}. Best is trial 23 with value: 0.7771469127040455.\n",
      "[I 2025-09-27 00:07:39,740] Trial 151 finished with value: 0.7771469127040455 and parameters: {'max_depth': 8, 'min_samples_split': 8}. Best is trial 23 with value: 0.7771469127040455.\n",
      "[I 2025-09-27 00:07:39,809] Trial 152 finished with value: 0.7281760113555713 and parameters: {'max_depth': 31, 'min_samples_split': 7}. Best is trial 23 with value: 0.7771469127040455.\n",
      "[I 2025-09-27 00:07:39,852] Trial 153 finished with value: 0.7771469127040455 and parameters: {'max_depth': 5, 'min_samples_split': 8}. Best is trial 23 with value: 0.7771469127040455.\n",
      "[I 2025-09-27 00:07:39,901] Trial 154 finished with value: 0.7686302342086586 and parameters: {'max_depth': 7, 'min_samples_split': 9}. Best is trial 23 with value: 0.7771469127040455.\n",
      "[I 2025-09-27 00:07:39,958] Trial 155 finished with value: 0.7672107877927609 and parameters: {'max_depth': 10, 'min_samples_split': 10}. Best is trial 23 with value: 0.7771469127040455.\n",
      "[I 2025-09-27 00:07:40,007] Trial 156 finished with value: 0.7686302342086586 and parameters: {'max_depth': 7, 'min_samples_split': 7}. Best is trial 23 with value: 0.7771469127040455.\n",
      "[I 2025-09-27 00:07:40,057] Trial 157 finished with value: 0.7771469127040455 and parameters: {'max_depth': 8, 'min_samples_split': 8}. Best is trial 23 with value: 0.7771469127040455.\n",
      "[I 2025-09-27 00:07:40,103] Trial 158 finished with value: 0.7735982966643009 and parameters: {'max_depth': 6, 'min_samples_split': 6}. Best is trial 23 with value: 0.7771469127040455.\n",
      "[I 2025-09-27 00:07:40,158] Trial 159 finished with value: 0.7743080198722498 and parameters: {'max_depth': 9, 'min_samples_split': 7}. Best is trial 23 with value: 0.7771469127040455.\n",
      "[I 2025-09-27 00:07:40,224] Trial 160 finished with value: 0.7459190915542938 and parameters: {'max_depth': 16, 'min_samples_split': 19}. Best is trial 23 with value: 0.7771469127040455.\n",
      "[I 2025-09-27 00:07:40,265] Trial 161 finished with value: 0.7771469127040455 and parameters: {'max_depth': 5, 'min_samples_split': 4}. Best is trial 23 with value: 0.7771469127040455.\n",
      "[I 2025-09-27 00:07:40,312] Trial 162 finished with value: 0.7735982966643009 and parameters: {'max_depth': 6, 'min_samples_split': 4}. Best is trial 23 with value: 0.7771469127040455.\n",
      "[I 2025-09-27 00:07:40,350] Trial 163 finished with value: 0.7324343506032647 and parameters: {'max_depth': 4, 'min_samples_split': 4}. Best is trial 23 with value: 0.7771469127040455.\n",
      "[I 2025-09-27 00:07:40,393] Trial 164 finished with value: 0.7771469127040455 and parameters: {'max_depth': 5, 'min_samples_split': 3}. Best is trial 23 with value: 0.7771469127040455.\n",
      "[I 2025-09-27 00:07:40,441] Trial 165 finished with value: 0.7686302342086586 and parameters: {'max_depth': 7, 'min_samples_split': 5}. Best is trial 23 with value: 0.7771469127040455.\n",
      "[I 2025-09-27 00:07:40,473] Trial 166 finished with value: 0.7402413058907026 and parameters: {'max_depth': 3, 'min_samples_split': 5}. Best is trial 23 with value: 0.7771469127040455.\n",
      "[I 2025-09-27 00:07:40,542] Trial 167 finished with value: 0.7331440738112136 and parameters: {'max_depth': 40, 'min_samples_split': 9}. Best is trial 23 with value: 0.7771469127040455.\n",
      "[I 2025-09-27 00:07:40,595] Trial 168 finished with value: 0.7771469127040455 and parameters: {'max_depth': 8, 'min_samples_split': 9}. Best is trial 23 with value: 0.7771469127040455.\n",
      "[I 2025-09-27 00:07:40,657] Trial 169 finished with value: 0.7622427253371186 and parameters: {'max_depth': 11, 'min_samples_split': 7}. Best is trial 23 with value: 0.7771469127040455.\n",
      "[I 2025-09-27 00:07:40,699] Trial 170 finished with value: 0.7771469127040455 and parameters: {'max_depth': 5, 'min_samples_split': 10}. Best is trial 23 with value: 0.7771469127040455.\n",
      "[I 2025-09-27 00:07:40,744] Trial 171 finished with value: 0.7735982966643009 and parameters: {'max_depth': 6, 'min_samples_split': 4}. Best is trial 23 with value: 0.7771469127040455.\n",
      "[I 2025-09-27 00:07:40,787] Trial 172 finished with value: 0.7771469127040455 and parameters: {'max_depth': 5, 'min_samples_split': 5}. Best is trial 23 with value: 0.7771469127040455.\n",
      "[I 2025-09-27 00:07:40,825] Trial 173 finished with value: 0.7324343506032647 and parameters: {'max_depth': 4, 'min_samples_split': 6}. Best is trial 23 with value: 0.7771469127040455.\n",
      "[I 2025-09-27 00:07:40,873] Trial 174 finished with value: 0.7686302342086586 and parameters: {'max_depth': 7, 'min_samples_split': 11}. Best is trial 23 with value: 0.7771469127040455.\n",
      "[I 2025-09-27 00:07:40,928] Trial 175 finished with value: 0.7735982966643009 and parameters: {'max_depth': 9, 'min_samples_split': 5}. Best is trial 23 with value: 0.7771469127040455.\n",
      "[I 2025-09-27 00:07:40,955] Trial 176 finished with value: 0.7402413058907026 and parameters: {'max_depth': 2, 'min_samples_split': 3}. Best is trial 23 with value: 0.7771469127040455.\n",
      "[I 2025-09-27 00:07:40,996] Trial 177 finished with value: 0.7771469127040455 and parameters: {'max_depth': 5, 'min_samples_split': 4}. Best is trial 23 with value: 0.7771469127040455.\n",
      "[I 2025-09-27 00:07:41,056] Trial 178 finished with value: 0.7686302342086586 and parameters: {'max_depth': 7, 'min_samples_split': 10}. Best is trial 23 with value: 0.7771469127040455.\n",
      "[I 2025-09-27 00:07:41,106] Trial 179 finished with value: 0.7771469127040455 and parameters: {'max_depth': 8, 'min_samples_split': 8}. Best is trial 23 with value: 0.7771469127040455.\n",
      "[I 2025-09-27 00:07:41,139] Trial 180 finished with value: 0.7402413058907026 and parameters: {'max_depth': 3, 'min_samples_split': 12}. Best is trial 23 with value: 0.7771469127040455.\n",
      "[I 2025-09-27 00:07:41,193] Trial 181 finished with value: 0.7735982966643009 and parameters: {'max_depth': 9, 'min_samples_split': 6}. Best is trial 23 with value: 0.7771469127040455.\n",
      "[I 2025-09-27 00:07:41,245] Trial 182 finished with value: 0.7771469127040455 and parameters: {'max_depth': 8, 'min_samples_split': 6}. Best is trial 23 with value: 0.7771469127040455.\n",
      "[I 2025-09-27 00:07:41,285] Trial 183 finished with value: 0.7771469127040455 and parameters: {'max_depth': 5, 'min_samples_split': 5}. Best is trial 23 with value: 0.7771469127040455.\n",
      "[I 2025-09-27 00:07:41,329] Trial 184 finished with value: 0.7735982966643009 and parameters: {'max_depth': 6, 'min_samples_split': 7}. Best is trial 23 with value: 0.7771469127040455.\n",
      "[I 2025-09-27 00:07:41,366] Trial 185 finished with value: 0.7324343506032647 and parameters: {'max_depth': 4, 'min_samples_split': 6}. Best is trial 23 with value: 0.7771469127040455.\n",
      "[I 2025-09-27 00:07:41,411] Trial 186 finished with value: 0.7735982966643009 and parameters: {'max_depth': 6, 'min_samples_split': 5}. Best is trial 23 with value: 0.7771469127040455.\n",
      "[I 2025-09-27 00:07:41,459] Trial 187 finished with value: 0.7686302342086586 and parameters: {'max_depth': 7, 'min_samples_split': 8}. Best is trial 23 with value: 0.7771469127040455.\n",
      "[I 2025-09-27 00:07:41,516] Trial 188 finished with value: 0.7679205110007097 and parameters: {'max_depth': 10, 'min_samples_split': 11}. Best is trial 23 with value: 0.7771469127040455.\n",
      "[I 2025-09-27 00:07:41,568] Trial 189 finished with value: 0.7771469127040455 and parameters: {'max_depth': 8, 'min_samples_split': 7}. Best is trial 23 with value: 0.7771469127040455.\n",
      "[I 2025-09-27 00:07:41,638] Trial 190 finished with value: 0.7196593328601846 and parameters: {'max_depth': 35, 'min_samples_split': 4}. Best is trial 23 with value: 0.7771469127040455.\n",
      "[I 2025-09-27 00:07:41,692] Trial 191 finished with value: 0.7735982966643009 and parameters: {'max_depth': 9, 'min_samples_split': 10}. Best is trial 23 with value: 0.7771469127040455.\n",
      "[I 2025-09-27 00:07:41,744] Trial 192 finished with value: 0.7771469127040455 and parameters: {'max_depth': 8, 'min_samples_split': 11}. Best is trial 23 with value: 0.7771469127040455.\n",
      "[I 2025-09-27 00:07:41,787] Trial 193 finished with value: 0.7735982966643009 and parameters: {'max_depth': 6, 'min_samples_split': 9}. Best is trial 23 with value: 0.7771469127040455.\n",
      "[I 2025-09-27 00:07:41,835] Trial 194 finished with value: 0.7686302342086586 and parameters: {'max_depth': 7, 'min_samples_split': 10}. Best is trial 23 with value: 0.7771469127040455.\n",
      "[I 2025-09-27 00:07:41,876] Trial 195 finished with value: 0.7771469127040455 and parameters: {'max_depth': 5, 'min_samples_split': 10}. Best is trial 23 with value: 0.7771469127040455.\n",
      "[I 2025-09-27 00:07:41,926] Trial 196 finished with value: 0.7771469127040455 and parameters: {'max_depth': 8, 'min_samples_split': 9}. Best is trial 23 with value: 0.7771469127040455.\n",
      "[I 2025-09-27 00:07:41,984] Trial 197 finished with value: 0.765791341376863 and parameters: {'max_depth': 10, 'min_samples_split': 6}. Best is trial 23 with value: 0.7771469127040455.\n",
      "[I 2025-09-27 00:07:42,021] Trial 198 finished with value: 0.7324343506032647 and parameters: {'max_depth': 4, 'min_samples_split': 8}. Best is trial 23 with value: 0.7771469127040455.\n",
      "[I 2025-09-27 00:07:42,066] Trial 199 finished with value: 0.7735982966643009 and parameters: {'max_depth': 6, 'min_samples_split': 7}. Best is trial 23 with value: 0.7771469127040455.\n"
     ]
    },
    {
     "name": "stdout",
     "output_type": "stream",
     "text": [
      "Best parameters: {'max_depth': 5, 'min_samples_split': 11}\n",
      "Best accuracy: 0.7771469127040455\n"
     ]
    }
   ],
   "source": [
    "study = optuna.create_study(direction=\"maximize\")\n",
    "study.optimize(lambda trial: decision_tree_model_automating_Hyperparamrter(trial, X_train, y_train, X_test, y_test), n_trials=200)\n",
    "\n",
    "print(\"Best parameters:\", study.best_params)\n",
    "print(\"Best accuracy:\", study.best_value)"
   ]
  },
  {
   "cell_type": "code",
   "execution_count": null,
   "id": "e7133e3e",
   "metadata": {},
   "outputs": [
    {
     "name": "stdout",
     "output_type": "stream",
     "text": [
      "Logistic regression: training set acc: 0.8173030449492509, test set 0.7771469127040455\n"
     ]
    }
   ],
   "source": [
    "model = tree.DecisionTreeClassifier(\n",
    "            max_depth=5,\n",
    "        min_samples_split=11).fit(X_train, y_train)\n",
    "print(f\"Logistic regression: training set acc: {model.score(X_train, y_train)}, test set {model.score(X_test, y_test)}\")"
   ]
  },
  {
   "cell_type": "code",
   "execution_count": null,
   "id": "dfa68f72",
   "metadata": {},
   "outputs": [
    {
     "name": "stdout",
     "output_type": "stream",
     "text": [
      "              precision    recall  f1-score   support\n",
      "\n",
      "           0       0.85      0.85      0.85      1036\n",
      "           1       0.58      0.58      0.58       373\n",
      "\n",
      "    accuracy                           0.78      1409\n",
      "   macro avg       0.71      0.71      0.71      1409\n",
      "weighted avg       0.78      0.78      0.78      1409\n",
      "\n"
     ]
    }
   ],
   "source": [
    "y_pred = model.predict(X_test)\n",
    "print(classification_report(y_test, y_pred))"
   ]
  },
  {
   "cell_type": "code",
   "execution_count": null,
   "id": "4dcbc3bf",
   "metadata": {},
   "outputs": [
    {
     "name": "stdout",
     "output_type": "stream",
     "text": [
      "ROC AUC Score: 0.8084481455795128\n"
     ]
    },
    {
     "data": {
      "image/png": "[encoded data removed]",
      "text/plain": [
       "<Figure size 700x600 with 1 Axes>"
      ]
     },
     "metadata": {},
     "output_type": "display_data"
    },
    {
     "data": {
      "image/png": "[encoded data removed]",
      "text/plain": [
       "<Figure size 600x500 with 1 Axes>"
      ]
     },
     "metadata": {},
     "output_type": "display_data"
    }
   ],
   "source": [
    "y_proba = model.predict_proba(X_test)[:, 1]\n",
    "roc_auc = roc_auc_score(y_test, y_proba)\n",
    "print(\"ROC AUC Score:\", roc_auc)\n",
    "\n",
    "# Plot ROC curve\n",
    "fpr, tpr, _ = roc_curve(y_test, y_proba)\n",
    "plt.figure(figsize=(7, 6))\n",
    "plt.plot(fpr, tpr, label=f\"ROC Curve (AUC = {roc_auc:.3f})\")\n",
    "plt.plot([0, 1], [0, 1], \"k--\", label=\"Random\")\n",
    "plt.xlabel(\"False Positive Rate\")\n",
    "plt.ylabel(\"True Positive Rate\")\n",
    "plt.title(\"ROC Curve\")\n",
    "plt.legend()\n",
    "plt.grid(alpha=0.3)\n",
    "plt.show()\n",
    "\n",
    "# ------------------------\n",
    "# Confusion Matrix\n",
    "# ------------------------\n",
    "y_pred = model.predict(X_test)\n",
    "cm = confusion_matrix(y_test, y_pred)\n",
    "\n",
    "plt.figure(figsize=(6, 5))\n",
    "sns.heatmap(cm, annot=True, fmt=\"d\", cmap=\"Blues\", cbar=False)\n",
    "plt.xlabel(\"Predicted label\")\n",
    "plt.ylabel(\"True label\")\n",
    "plt.title(\"Confusion Matrix\")\n",
    "plt.show()"
   ]
  },
  {
   "cell_type": "markdown",
   "id": "cda3a387",
   "metadata": {},
   "source": [
    "##### from scratch decision tree"
   ]
  },
  {
   "cell_type": "code",
   "execution_count": 10,
   "id": "379eb0f8",
   "metadata": {},
   "outputs": [],
   "source": [
    "import numpy as np\n",
    "\n",
    "class DecisionNode:\n",
    "    def __init__(self, impurity=None, feature_index=None, threshold=None, left=None, right=None):\n",
    "        self.left = left\n",
    "        self.right = right\n",
    "        self.impurity = impurity\n",
    "        self.feature_index = feature_index\n",
    "        self.threshold = threshold\n",
    "\n",
    "class LeafNode:\n",
    "    def __init__(self, y):\n",
    "        self.prediction_value = self._leaf_value_calculation(y)\n",
    "        self.proba = self._leaf_distribution(y)\n",
    "\n",
    "    def _leaf_value_calculation(self, y):\n",
    "        values, counts = np.unique(y, return_counts=True)\n",
    "        return values[np.argmax(counts)]\n",
    "\n",
    "    def _leaf_distribution(self, y):\n",
    "        # Binary classification → probability distribution [P(class=0), P(class=1)]\n",
    "        values, counts = np.unique(y, return_counts=True)\n",
    "        total = len(y)\n",
    "        dist = {0: 0.0, 1: 0.0}\n",
    "        for val, count in zip(values, counts):\n",
    "            dist[int(val)] = count / total\n",
    "        return dist  # dictionary with probs\n",
    "\n",
    "class DecisionTreeClassifierFromScratch:\n",
    "    def __init__(self, min_sample_split=3, min_impurity=1e-7, max_depth=10, criterion='gini'):\n",
    "        self.root = None\n",
    "        self.min_sample_split = min_sample_split\n",
    "        self.min_impurity = min_impurity\n",
    "        self.max_depth = max_depth\n",
    "        self.impurity_function = self._calculate_information_gain\n",
    "        self.criterion = self._gini_index if criterion == \"gini\" else self._entropy\n",
    "        self.criterion_name = criterion\n",
    "\n",
    "    def _gini_index(self, y):\n",
    "        gini = 1\n",
    "        for val in np.unique(y):\n",
    "            p = np.sum(y == val) / len(y)\n",
    "            gini -= p ** 2\n",
    "        return gini\n",
    "\n",
    "    def _entropy(self, y):\n",
    "        entropy = 0\n",
    "        for val in np.unique(y):\n",
    "            p = np.sum(y == val) / len(y)\n",
    "            entropy += -p * np.log2(p)\n",
    "        return entropy\n",
    "\n",
    "    def _calculate_information_gain(self, y, y1, y2):\n",
    "        p = len(y1) / len(y)\n",
    "        return self.criterion(y) - p * self.criterion(y1) - (1 - p) * self.criterion(y2)\n",
    "\n",
    "    def _partition_dataset(self, Xy, feature_index, threshold):\n",
    "        col = Xy[:, feature_index]\n",
    "        return Xy[col >= threshold], Xy[col < threshold]\n",
    "\n",
    "    def _find_best_split(self, Xy):\n",
    "        best_question, best_datasplit = None, {}\n",
    "        largest_impurity = 0\n",
    "        n_features = Xy.shape[1] - 1\n",
    "\n",
    "        for feature_index in range(n_features):\n",
    "            thresholds = np.unique(Xy[:, feature_index])\n",
    "            for threshold in thresholds:\n",
    "                true_xy, false_xy = self._partition_dataset(Xy, feature_index, threshold)\n",
    "                if len(true_xy) > 0 and len(false_xy) > 0:\n",
    "                    y, true_y, false_y = Xy[:, -1], true_xy[:, -1], false_xy[:, -1]\n",
    "                    impurity = self.impurity_function(y, true_y, false_y)\n",
    "                    if impurity > largest_impurity:\n",
    "                        largest_impurity = impurity\n",
    "                        best_question = (feature_index, threshold)\n",
    "                        best_datasplit = {\n",
    "                            \"leftX\": true_xy[:, :n_features],\n",
    "                            \"lefty\": true_xy[:, n_features:],\n",
    "                            \"rightX\": false_xy[:, :n_features],\n",
    "                            \"righty\": false_xy[:, n_features:]\n",
    "                        }\n",
    "        return largest_impurity, best_question, best_datasplit\n",
    "\n",
    "    def _build_tree(self, X, y, current_depth=0):\n",
    "        n_samples, n_features = X.shape\n",
    "        Xy = np.column_stack((X, y))\n",
    "\n",
    "        if (n_samples >= self.min_sample_split) and (current_depth < self.max_depth):\n",
    "            impurity, question, best_datasplit = self._find_best_split(Xy)\n",
    "            if impurity > self.min_impurity:\n",
    "                true_branch = self._build_tree(best_datasplit[\"leftX\"], best_datasplit[\"lefty\"], current_depth + 1)\n",
    "                false_branch = self._build_tree(best_datasplit[\"rightX\"], best_datasplit[\"righty\"], current_depth + 1)\n",
    "                return DecisionNode(impurity=impurity, feature_index=question[0], threshold=question[1],\n",
    "                                    left=true_branch, right=false_branch)\n",
    "\n",
    "        return LeafNode(y)\n",
    "\n",
    "    def fit(self, X, y):\n",
    "        self.root = self._build_tree(X, y, current_depth=0)\n",
    "\n",
    "    def _predict_sample_node(self, x, tree):\n",
    "        if isinstance(tree, LeafNode):\n",
    "            return tree\n",
    "        branch = tree.right\n",
    "        if x[tree.feature_index] >= tree.threshold:\n",
    "            branch = tree.left\n",
    "        return self._predict_sample_node(x, branch)\n",
    "\n",
    "    def predict(self, X):\n",
    "        X = np.array(X)\n",
    "        return np.array([self._predict_sample_node(sample, self.root).prediction_value for sample in X])\n",
    "\n",
    "    def predict_proba(self, X):\n",
    "        X = np.array(X)\n",
    "        probs = []\n",
    "        for sample in X:\n",
    "            leaf = self._predict_sample_node(sample, self.root)\n",
    "            probs.append([leaf.proba[0], leaf.proba[1]])  # [P(class=0), P(class=1)]\n",
    "        return np.array(probs)\n"
   ]
  },
  {
   "cell_type": "code",
   "execution_count": 11,
   "id": "7c6ab102",
   "metadata": {},
   "outputs": [],
   "source": [
    "from sklearn.metrics import (\n",
    "    confusion_matrix, accuracy_score, precision_score, recall_score,\n",
    "    f1_score, roc_auc_score, r2_score, roc_curve, classification_report\n",
    ")\n",
    "import matplotlib.pyplot as plt\n",
    "import seaborn as sns\n",
    "\n",
    "def evaluate_Decision_model(model, X_test, y_test):\n",
    "    y_pred = model.predict(X_test)\n",
    "    \n",
    "    # For ROC AUC we need positive class probability\n",
    "    if hasattr(model, \"predict_proba\"):\n",
    "        y_proba = model.predict_proba(X_test)[:, 1]\n",
    "    else:\n",
    "        y_proba = y_pred  \n",
    "\n",
    "    cm = confusion_matrix(y_test, y_pred)\n",
    "    acc = accuracy_score(y_test, y_pred)\n",
    "    precision = precision_score(y_test, y_pred)\n",
    "    recall = recall_score(y_test, y_pred)\n",
    "    specificity = cm[0,0] / (cm[0,0] + cm[0,1])\n",
    "    f1 = f1_score(y_test, y_pred)\n",
    "    auc = roc_auc_score(y_test, y_proba)\n",
    "    r2 = r2_score(y_test, y_pred)\n",
    "\n",
    "    print(\"\\nEvaluation Results:\")\n",
    "    print(f\"Accuracy: {acc:.4f}\")\n",
    "    print(f\"Precision: {precision:.4f}\")\n",
    "    print(f\"Sensitivity (Recall): {recall:.4f}\")\n",
    "    print(f\"Specificity (TNR): {specificity:.4f}\")\n",
    "    print(f\"F1-score: {f1:.4f}\")\n",
    "    print(f\"ROC AUC: {auc:.4f}\")\n",
    "    print(f\"R² score: {r2:.4f}\")\n",
    "    \n",
    "    print(\"\\nClassification Report:\\n\", classification_report(y_test, y_pred))\n",
    "\n",
    "    # Confusion Matrix\n",
    "    plt.figure(figsize=(5,4))\n",
    "    sns.heatmap(cm, annot=True, fmt=\"d\", cmap=\"Blues\")\n",
    "    plt.xlabel(\"Predicted\"); plt.ylabel(\"Actual\")\n",
    "    plt.title(\"Confusion Matrix\")\n",
    "    plt.show()\n",
    "\n",
    "    # ROC Curve\n",
    "    fpr, tpr, _ = roc_curve(y_test, y_proba)\n",
    "    plt.figure(figsize=(5,4))\n",
    "    plt.plot(fpr, tpr, label=f\"AUC = {auc:.4f}\")\n",
    "    plt.plot([0,1], [0,1], \"k--\")\n",
    "    plt.xlabel(\"False Positive Rate\"); plt.ylabel(\"True Positive Rate\")\n",
    "    plt.legend(); plt.title(\"ROC Curve\")\n",
    "    plt.show()\n",
    "\n",
    "    return {\n",
    "        \"accuracy\": acc,\n",
    "        \"precision\": precision,\n",
    "        \"recall\": recall,\n",
    "        \"specificity\": specificity,\n",
    "        \"f1\": f1,\n",
    "        \"auc\": auc,\n",
    "        \"r2\": r2,\n",
    "        \"confusion_matrix\": cm\n",
    "    }\n"
   ]
  },
  {
   "cell_type": "code",
   "execution_count": 12,
   "id": "170284a8",
   "metadata": {},
   "outputs": [],
   "source": [
    "tree = DecisionTreeClassifierFromScratch(max_depth=4)\n",
    "tree.fit(X_train, y_train)"
   ]
  },
  {
   "cell_type": "code",
   "execution_count": 14,
   "id": "2eab9465",
   "metadata": {},
   "outputs": [
    {
     "name": "stdout",
     "output_type": "stream",
     "text": [
      "\n",
      "Evaluation Results:\n",
      "Accuracy: 0.7324\n",
      "Precision: 0.4966\n",
      "Sensitivity (Recall): 0.7748\n",
      "Specificity (TNR): 0.7172\n",
      "F1-score: 0.6052\n",
      "ROC AUC: 0.8022\n",
      "R² score: -0.3746\n",
      "\n",
      "Classification Report:\n",
      "               precision    recall  f1-score   support\n",
      "\n",
      "           0       0.90      0.72      0.80      1036\n",
      "           1       0.50      0.77      0.61       373\n",
      "\n",
      "    accuracy                           0.73      1409\n",
      "   macro avg       0.70      0.75      0.70      1409\n",
      "weighted avg       0.79      0.73      0.75      1409\n",
      "\n"
     ]
    },
    {
     "data": {
      "image/png": "[encoded data removed]",
      "text/plain": [
       "<Figure size 500x400 with 2 Axes>"
      ]
     },
     "metadata": {},
     "output_type": "display_data"
    },
    {
     "data": {
      "image/png": "[encoded data removed]",
      "text/plain": [
       "<Figure size 500x400 with 1 Axes>"
      ]
     },
     "metadata": {},
     "output_type": "display_data"
    },
    {
     "data": {
      "text/plain": [
       "{'accuracy': 0.7324343506032647,\n",
       " 'precision': 0.4965635738831615,\n",
       " 'recall': 0.774798927613941,\n",
       " 'specificity': np.float64(0.7171814671814671),\n",
       " 'f1': 0.6052356020942409,\n",
       " 'auc': 0.8021546057739087,\n",
       " 'r2': -0.3746234744894259,\n",
       " 'confusion_matrix': array([[743, 293],\n",
       "        [ 84, 289]])}"
      ]
     },
     "execution_count": 14,
     "metadata": {},
     "output_type": "execute_result"
    }
   ],
   "source": [
    "evaluate_Decision_model(tree, X_test, y_test)"
   ]
  },
  {
   "cell_type": "markdown",
   "id": "bd2aa5b9",
   "metadata": {},
   "source": [
    "### Random Forest"
   ]
  },
  {
   "cell_type": "code",
   "execution_count": 15,
   "id": "17dac76c",
   "metadata": {},
   "outputs": [],
   "source": [
    "X_train, y_train, X_test, y_test = model_input_preparation(\n",
    "    df,\n",
    "    categorical_feature_list,\n",
    "    numerical_feature_list,\n",
    "    one_hot_feature,\n",
    "    normal_selected_feature,\n",
    "    one_hot = True,\n",
    "    scaler = False,\n",
    "    test_size = 0.2,\n",
    "    seed = 42,\n",
    "    selected_feature = False,\n",
    "    IS_SMOTE = False\n",
    ")"
   ]
  },
  {
   "cell_type": "code",
   "execution_count": null,
   "id": "45c3b3d4",
   "metadata": {},
   "outputs": [],
   "source": [
    "def random_forest_model_automating_Hyperparamrter(trial, x_train, y_train, x_test, y_test):\n",
    "\n",
    "    n_estimators = trial.suggest_int(\"max_depth\", 50 ,300)\n",
    "    max_depth = trial.suggest_int(\"max_depth\", 1, 30)\n",
    "\n",
    "    model = RandomForestClassifier(\n",
    "        n_estimators=n_estimators,\n",
    "        max_depth=max_depth\n",
    "    )\n",
    "\n",
    "    model.fit(x_train, y_train)\n",
    "    preds = model.predict(x_test)\n",
    "    accuracy = accuracy_score(y_test, preds)\n",
    "    return accuracy\n"
   ]
  },
  {
   "cell_type": "code",
   "execution_count": null,
   "id": "648b4cbb",
   "metadata": {},
   "outputs": [
    {
     "name": "stdout",
     "output_type": "stream",
     "text": [
      "Logistic regression: training set acc: 0.9985800496982605, test set 0.7913413768630234\n"
     ]
    }
   ],
   "source": [
    "model = RandomForestClassifier().fit(X_train, y_train)\n",
    "print(f\"Logistic regression: training set acc: {model.score(X_train, y_train)}, test set {model.score(X_test, y_test)}\")"
   ]
  },
  {
   "cell_type": "markdown",
   "id": "5abd8998",
   "metadata": {},
   "source": [
    "##### Random forest from scratch"
   ]
  },
  {
   "cell_type": "code",
   "execution_count": 25,
   "id": "6e33dcd8",
   "metadata": {},
   "outputs": [],
   "source": [
    "import numpy as np\n",
    "\n",
    "class RandomForestClassifierFromScratch:\n",
    "    def __init__(self, max_feature=None, n_trees=100, min_sample_split=2, \n",
    "                 min_impurity=1e-7, max_depth=10, criterion='gini'):\n",
    "        self.trees = [\n",
    "            DecisionTreeClassifierFromScratch(min_sample_split=min_sample_split,\n",
    "                                              min_impurity=min_impurity,\n",
    "                                              max_depth=max_depth,\n",
    "                                              criterion=criterion)\n",
    "            for _ in range(n_trees)\n",
    "        ]\n",
    "        self.tree_feature_indexes = []\n",
    "        self.n_estimators = n_trees\n",
    "        self.max_features = max_feature\n",
    "        self.prediction_aggrigation_calculation = self._maximum_vote_calculation\n",
    "\n",
    "    def _maximum_vote_calculation(self, y_preds):\n",
    "        y_pred = np.empty((y_preds.shape[0], 1))\n",
    "        for i, sample_predictions in enumerate(y_preds):\n",
    "            y_pred[i] = np.bincount(sample_predictions.astype(int)).argmax()\n",
    "        return y_pred\n",
    "\n",
    "    def _make_random_subset(self, X, y, n_subsets, replacement=True):\n",
    "        subset = []\n",
    "        sample_size = (X.shape[0] if replacement else (X.shape[0] // 2))\n",
    "        Xy = np.column_stack((X, y))\n",
    "        np.random.shuffle(Xy)\n",
    "        for i in range(n_subsets):\n",
    "            index = np.random.choice(range(sample_size), size=np.shape(range(sample_size)), replace=replacement)\n",
    "            X_s = Xy[index][:, :-1]\n",
    "            y_s = Xy[index][:, -1]\n",
    "            subset.append({\"X\": X_s, \"y\": y_s})\n",
    "        return subset\n",
    "\n",
    "    def fit(self, X, y):\n",
    "        n_features = X.shape[1]\n",
    "        if self.max_features is None:\n",
    "            self.max_features = int(round(np.sqrt(n_features)))\n",
    "\n",
    "        subsets = self._make_random_subset(X, y, self.n_estimators)\n",
    "        for i, subset in enumerate(subsets):\n",
    "            X_subset, y_subset = subset[\"X\"], subset[\"y\"]\n",
    "            idx = np.random.choice(range(n_features), size=self.max_features, replace=True)\n",
    "            self.tree_feature_indexes.append(idx)\n",
    "            X_subset = X_subset[:, idx]\n",
    "            y_subset = np.expand_dims(y_subset, axis=1)\n",
    "            self.trees[i].fit(X_subset, y_subset)\n",
    "\n",
    "    def predict(self, test_X):\n",
    "        # ensure numpy array\n",
    "        if isinstance(test_X, pd.DataFrame):\n",
    "            test_X = test_X.values  \n",
    "\n",
    "        y_preds = np.empty((test_X.shape[0], self.n_estimators))\n",
    "\n",
    "        # predictions from each tree\n",
    "        for i, tree in enumerate(self.trees):\n",
    "            features_index = self.tree_feature_indexes[i]\n",
    "            X_selected_features = test_X[:, features_index]  # now safe\n",
    "            y_preds[:, i] = tree.predict(X_selected_features).reshape((-1,))\n",
    "\n",
    "        # aggregate (majority vote)\n",
    "        y_pred = self.prediction_aggrigation_calculation(y_preds)\n",
    "        return y_pred\n",
    "\n",
    "\n",
    "    def predict_proba(self, test_X):\n",
    "        \"\"\"Return class probabilities by averaging probabilities across all trees\"\"\"\n",
    "        if isinstance(test_X, pd.DataFrame):\n",
    "            test_X = test_X.values  \n",
    "\n",
    "        y_preds = np.empty((test_X.shape[0], self.n_estimators))\n",
    "        probs = np.zeros((test_X.shape[0], 2))  # binary classification → 2 columns\n",
    "        for i, tree in enumerate(self.trees):\n",
    "            features_index = self.tree_feature_indexes[i]\n",
    "            X_selected_features = test_X[:, features_index]\n",
    "            tree_probs = tree.predict_proba(X_selected_features)  # each tree already supports predict_proba\n",
    "            probs += tree_probs\n",
    "        probs /= self.n_estimators  # average over all trees\n",
    "        return probs\n"
   ]
  },
  {
   "cell_type": "code",
   "execution_count": 30,
   "id": "7b5c3108",
   "metadata": {},
   "outputs": [],
   "source": [
    "def evaluate_Decision_model(model, X_test, y_test):\n",
    "    y_pred = model.predict(X_test)\n",
    "    \n",
    "    # For ROC AUC we need positive class probability\n",
    "    if hasattr(model, \"predict_proba\"):\n",
    "        y_proba = model.predict_proba(X_test)[:, 1]\n",
    "    else:\n",
    "        y_proba = y_pred  \n",
    "\n",
    "    cm = confusion_matrix(y_test, y_pred)\n",
    "    acc = accuracy_score(y_test, y_pred)\n",
    "    precision = precision_score(y_test, y_pred)\n",
    "    recall = recall_score(y_test, y_pred)\n",
    "    specificity = cm[0,0] / (cm[0,0] + cm[0,1])\n",
    "    f1 = f1_score(y_test, y_pred)\n",
    "    auc = roc_auc_score(y_test, y_proba)\n",
    "    r2 = r2_score(y_test, y_pred)\n",
    "\n",
    "    print(\"\\nEvaluation Results:\")\n",
    "    print(f\"Accuracy: {acc:.4f}\")\n",
    "    print(f\"Precision: {precision:.4f}\")\n",
    "    print(f\"Sensitivity (Recall): {recall:.4f}\")\n",
    "    print(f\"Specificity (TNR): {specificity:.4f}\")\n",
    "    print(f\"F1-score: {f1:.4f}\")\n",
    "    print(f\"ROC AUC: {auc:.4f}\")\n",
    "    print(f\"R² score: {r2:.4f}\")\n",
    "    \n",
    "    print(\"\\nClassification Report:\\n\", classification_report(y_test, y_pred))\n",
    "\n",
    "    # Confusion Matrix\n",
    "    plt.figure(figsize=(5,4))\n",
    "    sns.heatmap(cm, annot=True, fmt=\"d\", cmap=\"Blues\")\n",
    "    plt.xlabel(\"Predicted\"); plt.ylabel(\"Actual\")\n",
    "    plt.title(\"Confusion Matrix\")\n",
    "    plt.show()\n",
    "\n",
    "    # ROC Curve\n",
    "    fpr, tpr, _ = roc_curve(y_test, y_proba)\n",
    "    plt.figure(figsize=(5,4))\n",
    "    plt.plot(fpr, tpr, label=f\"AUC = {auc:.4f}\")\n",
    "    plt.plot([0,1], [0,1], \"k--\")\n",
    "    plt.xlabel(\"False Positive Rate\"); plt.ylabel(\"True Positive Rate\")\n",
    "    plt.legend(); plt.title(\"ROC Curve\")\n",
    "    plt.show()\n",
    "\n",
    "    return {\n",
    "        \"accuracy\": acc,\n",
    "        \"precision\": precision,\n",
    "        \"recall\": recall,\n",
    "        \"specificity\": specificity,\n",
    "        \"f1\": f1,\n",
    "        \"auc\": auc,\n",
    "        \"r2\": r2,\n",
    "        \"confusion_matrix\": cm\n",
    "    }"
   ]
  },
  {
   "cell_type": "code",
   "execution_count": 26,
   "id": "51f38c6f",
   "metadata": {},
   "outputs": [
    {
     "data": {
      "text/plain": [
       "array([[0.],\n",
       "       [0.],\n",
       "       [0.],\n",
       "       ...,\n",
       "       [0.],\n",
       "       [0.],\n",
       "       [0.]])"
      ]
     },
     "execution_count": 26,
     "metadata": {},
     "output_type": "execute_result"
    }
   ],
   "source": [
    "rf = RandomForestClassifierFromScratch(n_trees=50, max_depth=5)\n",
    "rf.fit(X_train, y_train)\n",
    "rf.predict(X_test)"
   ]
  },
  {
   "cell_type": "code",
   "execution_count": 27,
   "id": "f9b77651",
   "metadata": {},
   "outputs": [
    {
     "data": {
      "text/plain": [
       "array([[0.49093618, 0.50906382],\n",
       "       [0.88483238, 0.11516762],\n",
       "       [0.96073173, 0.03926827],\n",
       "       ...,\n",
       "       [0.92229387, 0.07770613],\n",
       "       [0.87388814, 0.12611186],\n",
       "       [0.60108309, 0.39891691]])"
      ]
     },
     "execution_count": 27,
     "metadata": {},
     "output_type": "execute_result"
    }
   ],
   "source": [
    "rf.predict_proba(X_test)"
   ]
  },
  {
   "cell_type": "code",
   "execution_count": 31,
   "id": "9be46ac6",
   "metadata": {},
   "outputs": [
    {
     "name": "stdout",
     "output_type": "stream",
     "text": [
      "\n",
      "Evaluation Results:\n",
      "Accuracy: 0.7842\n",
      "Precision: 0.7717\n",
      "Sensitivity (Recall): 0.2627\n",
      "Specificity (TNR): 0.9720\n",
      "F1-score: 0.3920\n",
      "ROC AUC: 0.8570\n",
      "R² score: -0.1084\n",
      "\n",
      "Classification Report:\n",
      "               precision    recall  f1-score   support\n",
      "\n",
      "           0       0.79      0.97      0.87      1036\n",
      "           1       0.77      0.26      0.39       373\n",
      "\n",
      "    accuracy                           0.78      1409\n",
      "   macro avg       0.78      0.62      0.63      1409\n",
      "weighted avg       0.78      0.78      0.74      1409\n",
      "\n"
     ]
    },
    {
     "data": {
      "image/png": "[encoded data removed]",
      "text/plain": [
       "<Figure size 500x400 with 2 Axes>"
      ]
     },
     "metadata": {},
     "output_type": "display_data"
    },
    {
     "data": {
      "image/png": "[encoded data removed]",
      "text/plain": [
       "<Figure size 500x400 with 1 Axes>"
      ]
     },
     "metadata": {},
     "output_type": "display_data"
    }
   ],
   "source": [
    "results = evaluate_Decision_model(rf, X_test, y_test)"
   ]
  },
  {
   "cell_type": "markdown",
   "id": "313e3c92",
   "metadata": {},
   "source": [
    "### CatBoost"
   ]
  },
  {
   "cell_type": "code",
   "execution_count": null,
   "id": "03200faa",
   "metadata": {},
   "outputs": [],
   "source": [
    "import numpy as np\n",
    "import pandas as pd\n",
    "from sklearn.tree import DecisionTreeClassifier\n",
    "from sklearn.metrics import log_loss\n",
    "\n",
    "class SimpleCatBoostLike:\n",
    "    def __init__(self, n_estimators=100, learning_rate=0.1, max_depth=3):\n",
    "        self.n_estimators = n_estimators\n",
    "        self.learning_rate = learning_rate\n",
    "        self.max_depth = max_depth\n",
    "        self.models = []\n",
    "        self.feature_encodings = {}\n",
    "        self.base_pred = None  # initial prediction (log-odds)\n",
    "\n",
    "    def _target_encode(self, X, y, categorical_features):\n",
    "        X_enc = X.copy()\n",
    "        y_series = pd.Series(y, name=\"__target__\")  # always enforce a name\n",
    "        X_enc = X_enc.assign(__target__=y_series)\n",
    "        \n",
    "        for col in categorical_features:\n",
    "            means = X_enc.groupby(col)[\"__target__\"].mean()\n",
    "            self.feature_encodings[col] = means.to_dict()\n",
    "            X_enc[col] = X_enc[col].map(self.feature_encodings[col])\n",
    "        \n",
    "        return X_enc.drop(columns=[\"__target__\"])\n",
    "\n",
    "\n",
    "    def transform_cats(self, X, categorical_features):\n",
    "        \"\"\"Apply learned encodings to new data\"\"\"\n",
    "        X_enc = X.copy()\n",
    "        for col in categorical_features:\n",
    "            if col in self.feature_encodings:\n",
    "                X_enc[col] = X_enc[col].map(self.feature_encodings[col]).fillna(0.5)\n",
    "        return X_enc\n",
    "\n",
    "    def fit(self, X, y, categorical_features=[]):\n",
    "        # Encode categoricals\n",
    "        X_enc = self._target_encode(X.assign(y=y), y, categorical_features)\n",
    "        X_enc = X_enc.drop(columns=[\"y\"], errors=\"ignore\")\n",
    "\n",
    "        # Initialize prediction with log-odds\n",
    "        p = np.mean(y)\n",
    "        self.base_pred = np.log(p / (1 - p))\n",
    "\n",
    "        # Gradient boosting loop\n",
    "        F = np.ones(len(y)) * self.base_pred\n",
    "        for i in range(self.n_estimators):\n",
    "            # Compute gradient (pseudo-residuals for logloss)\n",
    "            p_hat = 1 / (1 + np.exp(-F))\n",
    "            grad = y - p_hat\n",
    "\n",
    "            tree = DecisionTreeClassifier(max_depth=self.max_depth)\n",
    "            tree.fit(X_enc, grad > 0)  # simplified fit (classification of sign of grad)\n",
    "\n",
    "            update = tree.predict_proba(X_enc)[:,1]\n",
    "            F += self.learning_rate * update\n",
    "\n",
    "            self.models.append(tree)\n",
    "\n",
    "            if (i+1) % 10 == 0:\n",
    "                loss = log_loss(y, 1/(1+np.exp(-F)))\n",
    "                print(f\"Iter {i+1}/{self.n_estimators}, LogLoss: {loss:.4f}\")\n",
    "\n",
    "    def predict_proba(self, X, categorical_features=[]):\n",
    "        X_enc = self.transform_cats(X, categorical_features)\n",
    "        F = np.ones(len(X_enc)) * self.base_pred\n",
    "        for tree in self.models:\n",
    "            update = tree.predict_proba(X_enc)[:,1]\n",
    "            F += self.learning_rate * update\n",
    "        proba = 1 / (1 + np.exp(-F))\n",
    "        return np.vstack([1-proba, proba]).T\n",
    "\n",
    "    def predict(self, X, categorical_features=[]):\n",
    "        proba = self.predict_proba(X, categorical_features)[:,1]\n",
    "        return (proba > 0.5).astype(int)\n"
   ]
  },
  {
   "cell_type": "code",
   "execution_count": null,
   "id": "c8aa1083",
   "metadata": {},
   "outputs": [],
   "source": [
    "X_train, y_train, X_test, y_test = model_input_preparation(\n",
    "    df,\n",
    "    categorical_feature_list,\n",
    "    numerical_feature_list,\n",
    "    one_hot_feature,\n",
    "    normal_selected_feature,\n",
    "    one_hot = False,\n",
    "    scaler = False,\n",
    "    test_size = 0.2,\n",
    "    seed = 42,\n",
    "    selected_feature = False,\n",
    "    IS_SMOTE = False)"
   ]
  },
  {
   "cell_type": "code",
   "execution_count": null,
   "id": "23273c1d",
   "metadata": {},
   "outputs": [
    {
     "name": "stdout",
     "output_type": "stream",
     "text": [
      "Iter 10/30, LogLoss: 0.4883\n",
      "Iter 20/30, LogLoss: 0.4404\n",
      "Iter 30/30, LogLoss: 0.4316\n"
     ]
    }
   ],
   "source": [
    "scratch_model = SimpleCatBoostLike(n_estimators=30, learning_rate=0.1, max_depth=10)\n",
    "scratch_model.fit(X_train, y_train, categorical_features=categorical_feature_list)\n",
    "y_pred_scratch = scratch_model.predict(X_test, categorical_feature_list)\n",
    "y_proba_scratch = scratch_model.predict_proba(X_test, categorical_feature_list)"
   ]
  },
  {
   "cell_type": "code",
   "execution_count": null,
   "id": "93430a8d",
   "metadata": {},
   "outputs": [
    {
     "name": "stdout",
     "output_type": "stream",
     "text": [
      "Accuracy: 0.74\n"
     ]
    }
   ],
   "source": [
    "accuracy = accuracy_score(y_test, y_pred_scratch)\n",
    "print(f\"Accuracy: {accuracy:.2f}\")"
   ]
  },
  {
   "cell_type": "code",
   "execution_count": null,
   "id": "ccf1502b",
   "metadata": {},
   "outputs": [
    {
     "ename": "NameError",
     "evalue": "name 'nn' is not defined",
     "output_type": "error",
     "traceback": [
      "\u001b[31m---------------------------------------------------------------------------\u001b[39m",
      "\u001b[31mNameError\u001b[39m                                 Traceback (most recent call last)",
      "\u001b[36mCell\u001b[39m\u001b[36m \u001b[39m\u001b[32mIn[24]\u001b[39m\u001b[32m, line 1\u001b[39m\n\u001b[32m----> \u001b[39m\u001b[32m1\u001b[39m evaluate_model(scratch_model, test_loader, \u001b[43mnn\u001b[49m.CrossEntropyLoss())\n",
      "\u001b[31mNameError\u001b[39m: name 'nn' is not defined"
     ]
    }
   ],
   "source": [
    "evaluate_model(scratch_model, test_loader, nn.CrossEntropyLoss())"
   ]
  },
  {
   "cell_type": "code",
   "execution_count": null,
   "id": "dcb112c7",
   "metadata": {},
   "outputs": [
    {
     "data": {
      "text/plain": [
       "label\n",
       "0    4138\n",
       "1    1496\n",
       "Name: count, dtype: int64"
      ]
     },
     "execution_count": 36,
     "metadata": {},
     "output_type": "execute_result"
    }
   ],
   "source": [
    "y_train.value_counts()"
   ]
  },
  {
   "cell_type": "code",
   "execution_count": null,
   "id": "3c57af7f",
   "metadata": {},
   "outputs": [
    {
     "data": {
      "text/plain": [
       "<catboost.core.CatBoostClassifier at 0x22f0006a290>"
      ]
     },
     "execution_count": 56,
     "metadata": {},
     "output_type": "execute_result"
    }
   ],
   "source": [
    "model = CatBoostClassifier(\n",
    "    auto_class_weights='Balanced',\n",
    "    iterations=100,      \n",
    "    learning_rate=0.1,   \n",
    "    depth=6,              \n",
    "    verbose=0, \n",
    "    cat_features=categorical_feature_list\n",
    ")\n",
    "\n",
    "model.fit(X_train, y_train)"
   ]
  },
  {
   "cell_type": "code",
   "execution_count": null,
   "id": "760270de",
   "metadata": {},
   "outputs": [
    {
     "name": "stdout",
     "output_type": "stream",
     "text": [
      "Accuracy: 0.76\n"
     ]
    }
   ],
   "source": [
    "y_pred = model.predict(X_test)\n",
    "accuracy = accuracy_score(y_test, y_pred)\n",
    "print(f\"Accuracy: {accuracy:.2f}\")"
   ]
  },
  {
   "cell_type": "code",
   "execution_count": null,
   "id": "3025d843",
   "metadata": {},
   "outputs": [
    {
     "name": "stdout",
     "output_type": "stream",
     "text": [
      "Classification Report:\n",
      "               precision    recall  f1-score   support\n",
      "\n",
      "           0       0.92      0.73      0.81      1036\n",
      "           1       0.52      0.83      0.64       373\n",
      "\n",
      "    accuracy                           0.76      1409\n",
      "   macro avg       0.72      0.78      0.73      1409\n",
      "weighted avg       0.82      0.76      0.77      1409\n",
      "\n"
     ]
    }
   ],
   "source": [
    "classification_rep = classification_report(y_test, y_pred)\n",
    "print(\"Classification Report:\\n\", classification_rep)"
   ]
  }
 ],
 "metadata": {
  "kernelspec": {
   "display_name": "base",
   "language": "python",
   "name": "python3"
  },
  "language_info": {
   "codemirror_mode": {
    "name": "ipython",
    "version": 3
   },
   "file_extension": ".py",
   "mimetype": "text/x-python",
   "name": "python",
   "nbconvert_exporter": "python",
   "pygments_lexer": "ipython3",
   "version": "3.11.11"
  }
 },
 "nbformat": 4,
 "nbformat_minor": 5
}
